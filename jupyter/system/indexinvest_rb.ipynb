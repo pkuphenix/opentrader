{
 "cells": [
  {
   "cell_type": "markdown",
   "metadata": {},
   "source": [
    "# 指数投资（动态平衡）\n",
    "\n",
    "测试各指数或投资组合在动态平衡及定投策略下的表现。\n",
    "创建一个投资组合（包含各标的及现金），用一定的资金建立底仓，存量资金进行年度再平衡，定投部分采取每月等价值定投方案（随着资产的增长定投金额会增加），定投部分的标的选取同样需要一定程度的分散。具体定投方案还需要进一步测试。本笔记重点在通过简单的动态平衡算法检验投资组合的特点。"
   ]
  },
  {
   "cell_type": "code",
   "execution_count": null,
   "metadata": {
    "collapsed": true
   },
   "outputs": [],
   "source": [
    "%matplotlib inline\n",
    "from opentrader.core.crawler import *\n",
    "from datetime import datetime\n",
    "from opentrader.jupyter.lib.plot import *\n",
    "from opentrader.ceres.account import Account\n",
    "from opentrader.ceres.trade import *\n",
    "from datetime import datetime,timedelta\n",
    "from opentrader.common.utils import d2dt,gen_time\n",
    "\n",
    "# positions {<symbol>:0.2, \"cash\":0.8}\n",
    "def test_portfolios(positions):\n",
    "    cr = CNCrawler()\n",
    "    kdatas = {}\n",
    "    start_date = d2dt(datetime.now())\n",
    "    date_iters = {}\n",
    "    cur_date = {}\n",
    "    for symbol, position in positions.items():\n",
    "        if symbol == 'cash':\n",
    "            continue\n",
    "        kday_data = cr.get_k_day(symbol, \"1990-01-01 00:00:00\")\n",
    "        kdatas[symbol] = kday_data\n",
    "        if (kday_data[0]['date'] < start_date):\n",
    "            start_date = kday_data[0]['date']\n",
    "        date_iters[symbol] = iter(kday_data)\n",
    "        cur_date[symbol] = next(data_iters[symbol])\n",
    "    # iterate dates from start_date\n",
    "    date = start_date\n",
    "    while date <= datetime.now():\n",
    "        for symbol, each_iter in date_iters.items():\n",
    "            if cur_date[symbol] == date:\n",
    "                \n",
    "        date += timedelta(1)\n",
    "    "
   ]
  }
 ],
 "metadata": {
  "kernelspec": {
   "display_name": "Python 3",
   "language": "python",
   "name": "python3"
  },
  "language_info": {
   "codemirror_mode": {
    "name": "ipython",
    "version": 3
   },
   "file_extension": ".py",
   "mimetype": "text/x-python",
   "name": "python",
   "nbconvert_exporter": "python",
   "pygments_lexer": "ipython3",
   "version": "3.4.3"
  }
 },
 "nbformat": 4,
 "nbformat_minor": 0
}
