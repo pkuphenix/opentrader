{
 "cells": [
  {
   "cell_type": "markdown",
   "metadata": {},
   "source": [
    "# 仓位管理方案测试\n",
    "## 假设每次交易的收益是一个符合正态分布的随机变量\n"
   ]
  },
  {
   "cell_type": "code",
   "execution_count": 66,
   "metadata": {
    "collapsed": false
   },
   "outputs": [
    {
     "data": {
      "image/png": "[encoded data removed]",
      "text/plain": [
       "<matplotlib.figure.Figure at 0x1217ba7b8>"
      ]
     },
     "metadata": {},
     "output_type": "display_data"
    }
   ],
   "source": [
    "%matplotlib inline\n",
    "import matplotlib\n",
    "from numpy.random import randn\n",
    "import matplotlib.pyplot as plt\n",
    "from matplotlib.ticker import FuncFormatter\n",
    "def basic_policy(cost):\n",
    "    percent = randn() * 3\n",
    "    if percent > 10.0:\n",
    "        percent = 10.0\n",
    "    if percent < -10.0:\n",
    "        percent = -10.0\n",
    "    return (percent, cost * (1 + percent/100.0))\n",
    "\n",
    "def display_hist(values):\n",
    "    def to_percent(y, position):\n",
    "        # Ignore the passed in position. This has the effect of scaling the default\n",
    "        # tick locations.\n",
    "        s = str(100 * y)\n",
    "\n",
    "        # The percent symbol needs escaping in latex\n",
    "        if matplotlib.rcParams['text.usetex'] is True:\n",
    "            return s + r'$\\%$'\n",
    "        else:\n",
    "            return s + '%'\n",
    "\n",
    "    # Make a normed histogram. It'll be multiplied by 100 later.\n",
    "    plt.hist(values, bins=50, normed=True)\n",
    "\n",
    "    # Create the formatter using the function to_percent. This multiplies all the\n",
    "    # default labels by 100, making them all percentages\n",
    "    formatter = FuncFormatter(to_percent)\n",
    "\n",
    "    # Set the formatter\n",
    "    plt.gca().yaxis.set_major_formatter(formatter)\n",
    "\n",
    "    plt.show()\n",
    "\n",
    "\n",
    "# 测试1，永远满仓的方案\n",
    "percents = []\n",
    "assets = []\n",
    "m=0\n",
    "while m < 1000:\n",
    "    n=0\n",
    "    asset=10000.0\n",
    "    while n < 10000:\n",
    "        (percent, asset) = basic_policy(asset)\n",
    "        percents.append(percent)\n",
    "        n+=1\n",
    "    if asset < full * 10:\n",
    "        assets.append(asset)\n",
    "    m+=1\n",
    "#display_hist(percents)\n",
    "display_hist(assets)"
   ]
  },
  {
   "cell_type": "code",
   "execution_count": 67,
   "metadata": {
    "collapsed": false,
    "scrolled": true
   },
   "outputs": [
    {
     "data": {
      "image/png": "[encoded data removed]",
      "text/plain": [
       "<matplotlib.figure.Figure at 0x127311ba8>"
      ]
     },
     "metadata": {},
     "output_type": "display_data"
    }
   ],
   "source": [
    "# 测试2，高于成本时满仓，低于成本时半仓\n",
    "full = 10000.0\n",
    "percents = []\n",
    "assets = []\n",
    "m=0\n",
    "while m < 1000:\n",
    "    n=0\n",
    "    asset=full\n",
    "    while n < 10000:\n",
    "        if asset >= full:\n",
    "            position = asset\n",
    "        else:\n",
    "            position = asset * 0.5\n",
    "        asset -= position\n",
    "        (percent, position) = basic_policy(position)\n",
    "        asset += position \n",
    "        percents.append(percent)\n",
    "        n+=1\n",
    "    if asset < full * 10:\n",
    "        assets.append(asset)\n",
    "    m+=1\n",
    "#display_hist(percents)\n",
    "display_hist(assets)"
   ]
  },
  {
   "cell_type": "code",
   "execution_count": 97,
   "metadata": {
    "collapsed": false
   },
   "outputs": [
    {
     "data": {
      "image/png": "[encoded data removed]",
      "text/plain": [
       "<matplotlib.figure.Figure at 0x115c41b70>"
      ]
     },
     "metadata": {},
     "output_type": "display_data"
    }
   ],
   "source": [
    "# 测试3，带止损的策略，固定止损-5%\n",
    "def stop_policy(cost, stop):\n",
    "    percent = randn() * 3 + 1\n",
    "    if percent > 10.0:\n",
    "        percent = 10.0\n",
    "    elif percent < stop:\n",
    "        percent = stop\n",
    "    elif percent < -10.0:\n",
    "        percent = -10.0\n",
    "    return (percent, cost * (1 + percent/100.0))\n",
    "\n",
    "full = 10000.0\n",
    "percents = []\n",
    "assets = []\n",
    "m=0\n",
    "while m < 100:\n",
    "    n=0\n",
    "    asset=full\n",
    "    while n < 100:\n",
    "        position = asset\n",
    "        asset -= position\n",
    "        (percent, position) = stop_policy(position, -5.0)\n",
    "        asset += position\n",
    "        percents.append(percent)\n",
    "        n+=1\n",
    "    if asset < full * 10000:\n",
    "        assets.append(asset)\n",
    "    m+=1\n",
    "#display_hist(percents)\n",
    "display_hist(assets)"
   ]
  },
  {
   "cell_type": "code",
   "execution_count": 98,
   "metadata": {
    "collapsed": false
   },
   "outputs": [
    {
     "data": {
      "image/png": "[encoded data removed]",
      "text/plain": [
       "<matplotlib.figure.Figure at 0x1267fd358>"
      ]
     },
     "metadata": {},
     "output_type": "display_data"
    }
   ],
   "source": [
    "# 测试4，带止损的策略，固定止损-5%,在亏损至初始的一半前，始终维持初始的半仓操作\n",
    "\n",
    "full = 10000.0\n",
    "percents = []\n",
    "assets = []\n",
    "m=0\n",
    "while m < 1000:\n",
    "    n=0\n",
    "    asset=full\n",
    "    while n < 10000:\n",
    "        if asset > full * 0.5:\n",
    "            position = full * 0.5\n",
    "        else:\n",
    "            position = asset\n",
    "        asset -= position\n",
    "        (percent, position) = stop_policy(position, -5.0)\n",
    "        asset += position \n",
    "        percents.append(percent)\n",
    "        n+=1\n",
    "    assets.append(asset)\n",
    "    m+=1\n",
    "#display_hist(percents)\n",
    "display_hist(assets)"
   ]
  },
  {
   "cell_type": "code",
   "execution_count": 99,
   "metadata": {
    "collapsed": false
   },
   "outputs": [
    {
     "name": "stderr",
     "output_type": "stream",
     "text": [
      "/usr/local/lib/python3.4/site-packages/matplotlib/axes/_axes.py:6001: RuntimeWarning: invalid value encountered in true_divide\n",
      "  m = (m.astype(float) / db) / m.sum()\n"
     ]
    },
    {
     "data": {
      "image/png": "[encoded data removed]",
      "text/plain": [
       "<matplotlib.figure.Figure at 0x1207849e8>"
      ]
     },
     "metadata": {},
     "output_type": "display_data"
    }
   ],
   "source": [
    "# 测试5，带止损的策略，固定止损-5%, 亏损时仓位 * 0.5, \n",
    "\n",
    "full = 10000.0\n",
    "percents = []\n",
    "assets = []\n",
    "m=0\n",
    "while m < 1000:\n",
    "    n=0\n",
    "    asset=full\n",
    "    while n < 10000:\n",
    "        if asset > full * 0.5:\n",
    "            position = full * 0.5\n",
    "        else:\n",
    "            position = asset\n",
    "        asset -= position\n",
    "        (percent, position) = stop_policy(position, -5.0)\n",
    "        asset += position \n",
    "        percents.append(percent)\n",
    "        n+=1\n",
    "    if asset < full * 10:\n",
    "        assets.append(asset)\n",
    "    m+=1\n",
    "#display_hist(percents)\n",
    "display_hist(assets)"
   ]
  },
  {
   "cell_type": "code",
   "execution_count": null,
   "metadata": {
    "collapsed": true
   },
   "outputs": [],
   "source": []
  }
 ],
 "metadata": {
  "kernelspec": {
   "display_name": "Python 3",
   "language": "python",
   "name": "python3"
  },
  "language_info": {
   "codemirror_mode": {
    "name": "ipython",
    "version": 3
   },
   "file_extension": ".py",
   "mimetype": "text/x-python",
   "name": "python",
   "nbconvert_exporter": "python",
   "pygments_lexer": "ipython3",
   "version": "3.4.3"
  }
 },
 "nbformat": 4,
 "nbformat_minor": 0
}
