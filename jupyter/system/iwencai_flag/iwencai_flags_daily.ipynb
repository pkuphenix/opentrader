{
 "cells": [
  {
   "cell_type": "code",
   "execution_count": 1,
   "metadata": {
    "collapsed": false
   },
   "outputs": [
    {
     "name": "stdout",
     "output_type": "stream",
     "text": [
      "Querying 54 pages ......................................................"
     ]
    }
   ],
   "source": [
    "# 本脚本用于每日实盘操作及理论值的对比，整个脚本的运行有两种模式：\n",
    "#real模式用于收盘前的实盘操作\n",
    "#close模式用于收盘后的检验\n",
    "mode = \"real\"\n",
    "from opentrader.core.crawler import *\n",
    "from opentrader.agents.xueqiu.api import *\n",
    "from opentrader.agents.ths.api import *\n",
    "c = CNCrawler()\n",
    "stock_list = c.get_stock_list()\n",
    "stock_percent = {}\n",
    "for each in stock_list:\n",
    "    stock_percent[each['symbol']] = float(each['percent'])"
   ]
  },
  {
   "cell_type": "code",
   "execution_count": 2,
   "metadata": {
    "collapsed": false
   },
   "outputs": [
    {
     "name": "stdout",
     "output_type": "stream",
     "text": [
      "bbbbbbbbbbbbbbbbbbbb..............................................................................................................................................................................................................................................................................................e30e35.e24.e36e39e27e15e31.e20.e26.e30.e28e21.e20.e38.e32e53.e50e37.e10"
     ]
    }
   ],
   "source": [
    "# Use multiple threads to query iwencai flags and symbols\n",
    "from opentrader.common.db import db_ot\n",
    "from opentrader.common.utils import d2dt\n",
    "from pymongo.errors import *\n",
    "import threading,json,sys\n",
    "from datetime import date\n",
    "flagf = open(\"iwencai_flags.json\", \"r\")\n",
    "allflags = json.loads(flagf.read())\n",
    "lock_allflags = threading.RLock()\n",
    "flagf.close()\n",
    "\n",
    "flag_symbols = {} # {\"...flag...\":[<symbol1>, <symbol2>, ...], ...}\n",
    "lock = threading.RLock()\n",
    "\n",
    "class FlagCrawler(threading.Thread):\n",
    "    def __init__(self):\n",
    "        threading.Thread.__init__(self)\n",
    "        self.ths = THSAPI()\n",
    "\n",
    "    def run(self):\n",
    "        sys.stdout.write('b')\n",
    "        sys.stdout.flush()\n",
    "        i = 0\n",
    "        while True:\n",
    "            lock_allflags.acquire()\n",
    "            try:\n",
    "                flag = allflags.pop()\n",
    "            except IndexError:\n",
    "                lock_allflags.release()\n",
    "                break\n",
    "            lock_allflags.release()\n",
    "            # search each flag at iwencai\n",
    "            result = self.ths.query_iwencai(date.today().strftime('%Y年%m月%d日')+flag)\n",
    "            try:\n",
    "                result = result['result']\n",
    "            except TypeError as e:\n",
    "                sys.stdout.write(str(e))\n",
    "            i += 1\n",
    "            if i%2 == 0:\n",
    "                sys.stdout.write(\".\")\n",
    "            lock.acquire()\n",
    "            flag_symbols[flag] = [each[0] for each in result]\n",
    "            lock.release()\n",
    "            sys.stdout.flush()\n",
    "        sys.stdout.write('e%d' % (i))\n",
    "        sys.stdout.flush()\n",
    "\n",
    "threads = []\n",
    "for i in range(20):\n",
    "    thread = FlagCrawler()\n",
    "    threads.append(thread)\n",
    "    thread.start()\n",
    "\n",
    "for each in threads:\n",
    "    each.join()\n",
    "        \n",
    "f = open(\"./flag_symbols_\"+mode+\"_\"+str(date.today())+\".json\", \"w\")\n",
    "f.write(json.dumps(flag_symbols))\n",
    "f.close()"
   ]
  },
  {
   "cell_type": "code",
   "execution_count": 3,
   "metadata": {
    "collapsed": false
   },
   "outputs": [
    {
     "name": "stdout",
     "output_type": "stream",
     "text": [
      "total flags: 602, total symbols: 2644\n"
     ]
    }
   ],
   "source": [
    "# Turn {flag:[symbols]} into {symbol:[flags]}\n",
    "symbol_flags = {}\n",
    "for (flag, symbols) in flag_symbols.items():\n",
    "    for each in symbols:\n",
    "        if each not in symbol_flags:\n",
    "            symbol_flags[each] = []\n",
    "        symbol_flags[each].append(flag)\n",
    "print(\"total flags: %d, total symbols: %d\" % (len(flag_symbols), len(symbol_flags)))"
   ]
  },
  {
   "cell_type": "code",
   "execution_count": 4,
   "metadata": {
    "collapsed": false,
    "scrolled": true
   },
   "outputs": [
    {
     "name": "stdout",
     "output_type": "stream",
     "text": [
      "-0.12518536704259728\n",
      "2510\n",
      "symbol: SH600782, mean: 0.481378, max flag: 月线连续拉升, max flag mean: 1.514958\n",
      "symbol: SH601699, mean: 0.433327, max flag: 月线尖三兵, max flag mean: 1.482872\n",
      "symbol: SZ000761, mean: 0.432928, max flag: 月线连续拉升, max flag mean: 1.514958\n",
      "symbol: SH600395, mean: 0.415293, max flag: 月线连续拉升, max flag mean: 1.514958\n",
      "symbol: SZ000932, mean: 0.407572, max flag: 月线秋影金波, max flag mean: 1.407907\n",
      "symbol: SH600569, mean: 0.384241, max flag: 月线秋影金波, max flag mean: 1.407907\n",
      "symbol: SH603611, mean: 0.376508, max flag: 月线阳线, max flag mean: 0.968620\n",
      "symbol: SZ000937, mean: 0.373329, max flag: 月线池底巨龙, max flag mean: 1.331934\n",
      "symbol: SZ000709, mean: 0.372080, max flag: 月线低位大阳, max flag mean: 1.296769\n",
      "symbol: SZ000898, mean: 0.366143, max flag: 月线池底巨龙, max flag mean: 1.331934\n",
      "symbol: SH600693, mean: 0.365891, max flag: 月线秋影金波, max flag mean: 1.407907\n",
      "symbol: SZ000983, mean: 0.364345, max flag: 月线秋影金波, max flag mean: 1.407907\n",
      "symbol: SH600425, mean: 0.355664, max flag: 周线wr超买, max flag mean: 0.977707\n",
      "symbol: SH603988, mean: 0.339032, max flag: 周线wr超买, max flag mean: 0.977707\n",
      "symbol: SZ002760, mean: 0.327847, max flag: 月线阳线, max flag mean: 0.968620\n",
      "symbol: SZ300329, mean: 0.323521, max flag: 月线wr超买, max flag mean: 1.225575\n",
      "symbol: SZ002628, mean: 0.320137, max flag: 月线阳线, max flag mean: 0.968620\n",
      "symbol: SH600123, mean: 0.303443, max flag: 月线秋影金波, max flag mean: 1.407907\n",
      "symbol: SH600671, mean: 0.292911, max flag: 月线光脚阳线, max flag mean: 1.304263\n",
      "symbol: SZ000959, mean: 0.286539, max flag: 月线阳线, max flag mean: 0.968620\n",
      "symbol: SH600019, mean: 0.272264, max flag: 月线池底巨龙, max flag mean: 1.331934\n",
      "symbol: SZ002514, mean: 0.270064, max flag: 月线光脚阳线, max flag mean: 1.304263\n",
      "symbol: SZ002726, mean: 0.269431, max flag: 月线阳线, max flag mean: 0.968620\n",
      "symbol: SZ002235, mean: 0.267664, max flag: 月线量价巨增, max flag mean: 1.234136\n",
      "symbol: SZ000667, mean: 0.264782, max flag: 月线价升量涨, max flag mean: 0.949969\n",
      "symbol: SZ002371, mean: 0.252345, max flag: 月线光脚阳线, max flag mean: 1.304263\n",
      "symbol: SZ000567, mean: 0.242607, max flag: 月线阳线, max flag mean: 0.968620\n",
      "symbol: SZ000838, mean: 0.241922, max flag: 月线放量拉升, max flag mean: 1.327705\n",
      "symbol: SH600966, mean: 0.239104, max flag: 周线bias卖出信号, max flag mean: 0.875629\n",
      "symbol: SZ000605, mean: 0.238172, max flag: 月线超级短线波段, max flag mean: 1.115085\n",
      "symbol: SZ000732, mean: 0.230346, max flag: 周线价升量缩, max flag mean: 0.695871\n",
      "symbol: SH600348, mean: 0.220751, max flag: 月线阳线, max flag mean: 0.968620\n",
      "symbol: SZ000418, mean: 0.217542, max flag: 月线cci买入信号, max flag mean: 1.282260\n",
      "symbol: SZ002051, mean: 0.205439, max flag: 周线旗形, max flag mean: 0.607847\n",
      "symbol: SZ300498, mean: 0.191805, max flag: 月线阳线, max flag mean: 0.968620\n",
      "symbol: SZ002428, mean: 0.181767, max flag: 月线macd金叉, max flag mean: 0.950404\n",
      "symbol: SZ300261, mean: 0.181613, max flag: 月线阳线, max flag mean: 0.968620\n",
      "symbol: SZ002468, mean: 0.181112, max flag: 月线wr超买, max flag mean: 1.225575\n",
      "symbol: SZ000897, mean: 0.177741, max flag: 周线秋影金波, max flag mean: 0.914746\n",
      "symbol: SZ300496, mean: 0.176506, max flag: 月线光脚阳线, max flag mean: 1.304263\n",
      "symbol: SZ000401, mean: 0.156560, max flag: 月线skdj金叉, max flag mean: 0.874142\n",
      "symbol: SH600403, mean: 0.150374, max flag: 周线价升量缩, max flag mean: 0.695871\n",
      "symbol: SZ002713, mean: 0.147961, max flag: 周线四阳夹一阴, max flag mean: 0.736450\n",
      "symbol: SZ002601, mean: 0.140872, max flag: 月线bias卖出信号, max flag mean: 0.657534\n",
      "symbol: SZ000586, mean: 0.135525, max flag: 月线旗形, max flag mean: 1.008306\n",
      "symbol: SZ000563, mean: 0.135123, max flag: 月线macd金叉, max flag mean: 0.950404\n",
      "symbol: SZ300401, mean: 0.134191, max flag: 月线cr金叉, max flag mean: 0.861086\n",
      "symbol: SH600971, mean: 0.129027, max flag: 月线cr金叉, max flag mean: 0.861086\n",
      "symbol: SZ300427, mean: 0.127146, max flag: 周线价升量缩, max flag mean: 0.695871\n",
      "symbol: SZ002419, mean: 0.126789, max flag: 月线反弹先锋, max flag mean: 0.847357\n",
      "symbol: SH603300, mean: 0.126322, max flag: 周线skdj超买, max flag mean: 0.894963\n",
      "symbol: SZ000518, mean: 0.126118, max flag: 月线旗形, max flag mean: 1.008306\n",
      "symbol: SZ002622, mean: 0.126106, max flag: 月线量价巨增, max flag mean: 1.234136\n",
      "symbol: SZ002237, mean: 0.125797, max flag: 月线skdj金叉, max flag mean: 0.874142\n",
      "symbol: SZ002569, mean: 0.124337, max flag: 业绩预告类型预增, max flag mean: 0.124337\n",
      "symbol: SZ002684, mean: 0.124337, max flag: 业绩预告类型预增, max flag mean: 0.124337\n",
      "symbol: SZ000035, mean: 0.124337, max flag: 业绩预告类型预增, max flag mean: 0.124337\n",
      "symbol: SZ002201, mean: 0.124337, max flag: 业绩预告类型预增, max flag mean: 0.124337\n",
      "symbol: SZ002020, mean: 0.124337, max flag: 业绩预告类型预增, max flag mean: 0.124337\n",
      "symbol: SZ002652, mean: 0.124337, max flag: 业绩预告类型预增, max flag mean: 0.124337\n",
      "symbol: SZ002286, mean: 0.124337, max flag: 业绩预告类型预增, max flag mean: 0.124337\n",
      "symbol: SZ002542, mean: 0.124337, max flag: 业绩预告类型预增, max flag mean: 0.124337\n",
      "symbol: SZ300324, mean: 0.124337, max flag: 业绩预告类型预增, max flag mean: 0.124337\n",
      "symbol: SZ002049, mean: 0.124337, max flag: 业绩预告类型预增, max flag mean: 0.124337\n",
      "symbol: SZ002006, mean: 0.124337, max flag: 业绩预告类型预增, max flag mean: 0.124337\n",
      "symbol: SZ002647, mean: 0.124337, max flag: 业绩预告类型预增, max flag mean: 0.124337\n",
      "symbol: SZ002228, mean: 0.124337, max flag: 业绩预告类型预增, max flag mean: 0.124337\n",
      "symbol: SZ300242, mean: 0.124337, max flag: 业绩预告类型预增, max flag mean: 0.124337\n",
      "symbol: SZ002065, mean: 0.124337, max flag: 业绩预告类型预增, max flag mean: 0.124337\n",
      "symbol: SZ002638, mean: 0.124337, max flag: 业绩预告类型预增, max flag mean: 0.124337\n",
      "symbol: SZ002573, mean: 0.124337, max flag: 业绩预告类型预增, max flag mean: 0.124337\n",
      "symbol: SZ002427, mean: 0.124337, max flag: 业绩预告类型预增, max flag mean: 0.124337\n",
      "symbol: SZ002018, mean: 0.124337, max flag: 业绩预告类型预增, max flag mean: 0.124337\n",
      "symbol: SH600556, mean: 0.124337, max flag: 业绩预告类型预增, max flag mean: 0.124337\n",
      "symbol: SZ002485, mean: 0.124337, max flag: 业绩预告类型预增, max flag mean: 0.124337\n",
      "symbol: SZ000836, mean: 0.124337, max flag: 业绩预告类型预增, max flag mean: 0.124337\n",
      "symbol: SZ002052, mean: 0.124337, max flag: 业绩预告类型预增, max flag mean: 0.124337\n",
      "symbol: SZ002176, mean: 0.124337, max flag: 业绩预告类型预增, max flag mean: 0.124337\n",
      "symbol: SZ002326, mean: 0.124337, max flag: 业绩预告类型预增, max flag mean: 0.124337\n",
      "symbol: SZ300365, mean: 0.124337, max flag: 业绩预告类型预增, max flag mean: 0.124337\n",
      "symbol: SZ002624, mean: 0.124337, max flag: 业绩预告类型预增, max flag mean: 0.124337\n",
      "symbol: SZ002053, mean: 0.124337, max flag: 业绩预告类型预增, max flag mean: 0.124337\n",
      "symbol: SZ002089, mean: 0.124337, max flag: 业绩预告类型预增, max flag mean: 0.124337\n",
      "symbol: SH600538, mean: 0.124337, max flag: 业绩预告类型预增, max flag mean: 0.124337\n",
      "symbol: SZ002219, mean: 0.124337, max flag: 业绩预告类型预增, max flag mean: 0.124337\n",
      "symbol: SZ002537, mean: 0.124337, max flag: 业绩预告类型预增, max flag mean: 0.124337\n",
      "symbol: SZ002567, mean: 0.124337, max flag: 业绩预告类型预增, max flag mean: 0.124337\n",
      "symbol: SZ002044, mean: 0.124337, max flag: 业绩预告类型预增, max flag mean: 0.124337\n",
      "symbol: SZ002103, mean: 0.124337, max flag: 业绩预告类型预增, max flag mean: 0.124337\n",
      "symbol: SZ002409, mean: 0.124337, max flag: 业绩预告类型预增, max flag mean: 0.124337\n",
      "symbol: SZ002631, mean: 0.124337, max flag: 业绩预告类型预增, max flag mean: 0.124337\n",
      "symbol: SZ300238, mean: 0.124337, max flag: 业绩预告类型预增, max flag mean: 0.124337\n",
      "symbol: SZ002530, mean: 0.124337, max flag: 业绩预告类型预增, max flag mean: 0.124337\n",
      "symbol: SZ002619, mean: 0.124337, max flag: 业绩预告类型预增, max flag mean: 0.124337\n",
      "symbol: SZ002174, mean: 0.124337, max flag: 业绩预告类型预增, max flag mean: 0.124337\n",
      "symbol: SZ002434, mean: 0.124337, max flag: 业绩预告类型预增, max flag mean: 0.124337\n",
      "symbol: SZ002633, mean: 0.124337, max flag: 业绩预告类型预增, max flag mean: 0.124337\n",
      "symbol: SZ002425, mean: 0.124337, max flag: 业绩预告类型预增, max flag mean: 0.124337\n",
      "symbol: SZ000058, mean: 0.124337, max flag: 业绩预告类型预增, max flag mean: 0.124337\n",
      "symbol: SZ002664, mean: 0.124337, max flag: 业绩预告类型预增, max flag mean: 0.124337\n"
     ]
    }
   ],
   "source": [
    "# check today's stocks with most buy flags\n",
    "import operator\n",
    "from datetime import datetime,timedelta\n",
    "\n",
    "f = open('iwencai_flag_performance_onedayf_all.json', 'r')\n",
    "flagperformance = json.loads(f.read())\n",
    "f.close()\n",
    "\n",
    "stockmeans = {}\n",
    "stock_maxflag = {}\n",
    "totalflags = 0\n",
    "totalmean = 0\n",
    "\n",
    "for (symbol, flags) in symbol_flags.items():\n",
    "    symbol = symbol_convert3(symbol)\n",
    "    stockmean = 0\n",
    "    stock_flag_count = 0\n",
    "    maxflag = ['', 0]\n",
    "    filter_symbol = False\n",
    "    for flag in flags:\n",
    "        if flag in ('停牌','涨停'):# 此处过滤 “涨停” 是为了滤掉ST股票的影响\n",
    "            filter_symbol = True\n",
    "        if flag not in flagperformance:\n",
    "            continue\n",
    "        stock_flag_count += 1\n",
    "        stockmean += flagperformance[flag]['avr']\n",
    "        totalflags += 1\n",
    "        totalmean += flagperformance[flag]['avr']\n",
    "        if flagperformance[flag]['avr'] > maxflag[1]:\n",
    "            maxflag[1] = flagperformance[flag]['avr']\n",
    "            maxflag[0] = flag\n",
    "    if stock_flag_count == 0:\n",
    "        continue\n",
    "    stockmean = stockmean / stock_flag_count\n",
    "    if stock_percent[symbol] > 9.8 or filter_symbol:\n",
    "        continue\n",
    "    stockmeans[symbol] = stockmean\n",
    "    stock_maxflag[symbol] = maxflag\n",
    "            \n",
    "sorted_x = sorted(stockmeans.items(), key=operator.itemgetter(1))\n",
    "sorted_x.reverse()\n",
    "print(totalmean/totalflags)\n",
    "print(len(sorted_x))\n",
    "\n",
    "output = []\n",
    "for each in sorted_x[:100]:\n",
    "    output.append({\"symbol\":each[0], \"mean\":each[1], \"max_flag\":stock_maxflag[each[0]][0], \"max_flag_mean\":stock_maxflag[each[0]][1]})\n",
    "    print(\"symbol: %s, mean: %f, max flag: %s, max flag mean: %f\" % (each[0], each[1], stock_maxflag[each[0]][0], stock_maxflag[each[0]][1]))\n",
    "f = open(\"./output_\"+mode+\"_\"+str(date.today())+\".json\", \"w\")\n",
    "f.write(json.dumps(output))\n",
    "f.close()"
   ]
  },
  {
   "cell_type": "raw",
   "metadata": {
    "collapsed": true
   },
   "source": []
  },
  {
   "cell_type": "markdown",
   "metadata": {
    "collapsed": true
   },
   "source": []
  }
 ],
 "metadata": {
  "kernelspec": {
   "display_name": "Python 3",
   "language": "python",
   "name": "python3"
  },
  "language_info": {
   "codemirror_mode": {
    "name": "ipython",
    "version": 3
   },
   "file_extension": ".py",
   "mimetype": "text/x-python",
   "name": "python",
   "nbconvert_exporter": "python",
   "pygments_lexer": "ipython3",
   "version": "3.5.1"
  }
 },
 "nbformat": 4,
 "nbformat_minor": 0
}
