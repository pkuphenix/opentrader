{
 "cells": [
  {
   "cell_type": "code",
   "execution_count": 1,
   "metadata": {
    "collapsed": false
   },
   "outputs": [
    {
     "name": "stdout",
     "output_type": "stream",
     "text": [
      "Querying 54 pages ......................................................"
     ]
    }
   ],
   "source": [
    "# 本脚本用于每日实盘操作及理论值的对比，整个脚本的运行有两种模式：\n",
    "#real模式用于收盘前的实盘操作\n",
    "#close模式用于收盘后的检验\n",
    "mode = \"real\"\n",
    "from opentrader.core.crawler import *\n",
    "from opentrader.agents.xueqiu.api import *\n",
    "from opentrader.agents.ths.api import *\n",
    "\n",
    "c = CNCrawler()\n",
    "stock_list = c.get_stock_list()\n",
    "stock_percent = {}\n",
    "for each in stock_list:\n",
    "    stock_percent[each['symbol']] = float(each['percent'])"
   ]
  },
  {
   "cell_type": "code",
   "execution_count": 2,
   "metadata": {
    "collapsed": false
   },
   "outputs": [
    {
     "name": "stdout",
     "output_type": "stream",
     "text": [
      "bbbbbbbbbbbbbbbbbbbb..............................................................................................................................................................................................................................................................................................e24e29e33.e22.e32.e42e27.e42.e28e37.e30.e34e23.e20.e32e23e29.e32e37.e26"
     ]
    }
   ],
   "source": [
    "# Use multiple threads to query iwencai flags and symbols\n",
    "from opentrader.common.db import db_ot\n",
    "from opentrader.common.utils import d2dt\n",
    "from pymongo.errors import *\n",
    "import threading,json,sys\n",
    "from datetime import date\n",
    "flagf = open(\"iwencai_flags.json\", \"r\")\n",
    "allflags = json.loads(flagf.read())\n",
    "lock_allflags = threading.RLock()\n",
    "flagf.close()\n",
    "\n",
    "flag_symbols = {} # {\"...flag...\":[<symbol1>, <symbol2>, ...], ...}\n",
    "lock = threading.RLock()\n",
    "\n",
    "class FlagCrawler(threading.Thread):\n",
    "    def __init__(self):\n",
    "        threading.Thread.__init__(self)\n",
    "        self.ths = THSAPI()\n",
    "\n",
    "    def run(self):\n",
    "        sys.stdout.write('b')\n",
    "        sys.stdout.flush()\n",
    "        i = 0\n",
    "        while True:\n",
    "            lock_allflags.acquire()\n",
    "            try:\n",
    "                flag = allflags.pop()\n",
    "            except IndexError:\n",
    "                lock_allflags.release()\n",
    "                break\n",
    "            lock_allflags.release()\n",
    "            # search each flag at iwencai\n",
    "            result = self.ths.query_iwencai(date.today().strftime('%Y年%m月%d日')+flag)\n",
    "            try:\n",
    "                result = result['result']\n",
    "            except TypeError as e:\n",
    "                sys.stdout.write(str(e))\n",
    "            i += 1\n",
    "            if i%2 == 0:\n",
    "                sys.stdout.write(\".\")\n",
    "            lock.acquire()\n",
    "            flag_symbols[flag] = [each[0] for each in result]\n",
    "            lock.release()\n",
    "            sys.stdout.flush()\n",
    "        sys.stdout.write('e%d' % (i))\n",
    "        sys.stdout.flush()\n",
    "\n",
    "threads = []\n",
    "for i in range(20):\n",
    "    thread = FlagCrawler()\n",
    "    threads.append(thread)\n",
    "    thread.start()\n",
    "\n",
    "for each in threads:\n",
    "    each.join()\n",
    "        \n",
    "f = open(\"./flag_symbols_\"+mode+\"_\"+str(date.today())+\".json\", \"w\")\n",
    "f.write(json.dumps(flag_symbols))\n",
    "f.close()"
   ]
  },
  {
   "cell_type": "code",
   "execution_count": 3,
   "metadata": {
    "collapsed": false
   },
   "outputs": [
    {
     "name": "stdout",
     "output_type": "stream",
     "text": [
      "total flags: 602, total symbols: 2682\n"
     ]
    }
   ],
   "source": [
    "# Turn {flag:[symbols]} into {symbol:[flags]}\n",
    "symbol_flags = {}\n",
    "for (flag, symbols) in flag_symbols.items():\n",
    "    for each in symbols:\n",
    "        if each not in symbol_flags:\n",
    "            symbol_flags[each] = []\n",
    "        symbol_flags[each].append(flag)\n",
    "print(\"total flags: %d, total symbols: %d\" % (len(flag_symbols), len(symbol_flags)))"
   ]
  },
  {
   "cell_type": "code",
   "execution_count": 4,
   "metadata": {
    "collapsed": false,
    "scrolled": true
   },
   "outputs": [
    {
     "name": "stdout",
     "output_type": "stream",
     "text": [
      "-0.08373639639574634\n",
      "2666\n",
      "symbol: SZ000932, mean: 0.511400, max flag: 月线巨量长阳, max flag mean: 1.354425\n",
      "symbol: SZ000983, mean: 0.482927, max flag: 月线尖三兵, max flag mean: 1.482872\n",
      "symbol: SH600395, mean: 0.476368, max flag: 月线连续拉升, max flag mean: 1.514958\n",
      "symbol: SH600898, mean: 0.459933, max flag: 月线尖三兵, max flag mean: 1.482872\n",
      "symbol: SH600383, mean: 0.451742, max flag: 月线连续拉升, max flag mean: 1.514958\n",
      "symbol: SZ000761, mean: 0.450910, max flag: 月线连续拉升, max flag mean: 1.514958\n",
      "symbol: SZ000959, mean: 0.435019, max flag: 月线放量拉升, max flag mean: 1.327705\n",
      "symbol: SH601699, mean: 0.405360, max flag: 月线池底巨龙, max flag mean: 1.331934\n",
      "symbol: SZ002119, mean: 0.381765, max flag: 月线放量拉升, max flag mean: 1.327705\n",
      "symbol: SZ300294, mean: 0.377341, max flag: 月线放量拉升, max flag mean: 1.327705\n",
      "symbol: SZ002371, mean: 0.366874, max flag: 月线放量拉升, max flag mean: 1.327705\n",
      "symbol: SZ002628, mean: 0.365531, max flag: 月线cci买入信号, max flag mean: 1.282260\n",
      "symbol: SH600693, mean: 0.360082, max flag: 月线连续拉升, max flag mean: 1.514958\n",
      "symbol: SZ002780, mean: 0.359511, max flag: 月线光脚阳线, max flag mean: 1.304263\n",
      "symbol: SZ000615, mean: 0.345292, max flag: 月线量价巨增, max flag mean: 1.234136\n",
      "symbol: SH600202, mean: 0.342193, max flag: 周线wr超买, max flag mean: 0.977707\n",
      "symbol: SZ002634, mean: 0.308691, max flag: 月线连续拉升, max flag mean: 1.514958\n",
      "symbol: SZ002019, mean: 0.307929, max flag: 月线放量拉升, max flag mean: 1.327705\n",
      "symbol: SH600546, mean: 0.298986, max flag: 月线池底巨龙, max flag mean: 1.331934\n",
      "symbol: SH600188, mean: 0.297109, max flag: 月线阶段抄底, max flag mean: 0.947067\n",
      "symbol: SH600651, mean: 0.274149, max flag: 周线bias卖出信号, max flag mean: 0.875629\n",
      "symbol: SZ002586, mean: 0.265497, max flag: 月线阳线, max flag mean: 0.968620\n",
      "symbol: SH600781, mean: 0.264006, max flag: 月线价升量涨, max flag mean: 0.949969\n",
      "symbol: SZ002615, mean: 0.262006, max flag: 月线cci买入信号, max flag mean: 1.282260\n",
      "symbol: SH603778, mean: 0.257844, max flag: 月线光脚阳线, max flag mean: 1.304263\n",
      "symbol: SH600793, mean: 0.255862, max flag: 月线超级短线波段, max flag mean: 1.115085\n",
      "symbol: SZ300494, mean: 0.216969, max flag: 月线光脚阳线, max flag mean: 1.304263\n",
      "symbol: SZ000409, mean: 0.215852, max flag: 周线博弈K线长阳, max flag mean: 0.619885\n",
      "symbol: SZ300492, mean: 0.214477, max flag: 月线光脚阳线, max flag mean: 1.304263\n",
      "symbol: SZ002768, mean: 0.211024, max flag: 月线阳线, max flag mean: 0.968620\n",
      "symbol: SZ002787, mean: 0.208575, max flag: 月线光脚阳线, max flag mean: 1.304263\n",
      "symbol: SZ300496, mean: 0.207955, max flag: 月线光脚阳线, max flag mean: 1.304263\n",
      "symbol: SH600116, mean: 0.207510, max flag: 月线旗形, max flag mean: 1.008306\n",
      "symbol: SZ002782, mean: 0.197805, max flag: 月线光脚阳线, max flag mean: 1.304263\n",
      "symbol: SH600876, mean: 0.197282, max flag: 周线价升量缩, max flag mean: 0.695871\n",
      "symbol: SZ002514, mean: 0.196740, max flag: 月线光脚阳线, max flag mean: 1.304263\n",
      "symbol: SH603508, mean: 0.190979, max flag: 月线量价巨增, max flag mean: 1.234136\n",
      "symbol: SZ000838, mean: 0.189877, max flag: 月线巨量长阳, max flag mean: 1.354425\n",
      "symbol: SZ002786, mean: 0.186697, max flag: 月线光脚阳线, max flag mean: 1.304263\n",
      "symbol: SZ002679, mean: 0.186162, max flag: 周线价升量缩, max flag mean: 0.695871\n",
      "symbol: SH601001, mean: 0.184118, max flag: 月线池底巨龙, max flag mean: 1.331934\n",
      "symbol: SZ002416, mean: 0.179706, max flag: 周线rsi金叉, max flag mean: 0.629885\n",
      "symbol: SH600604, mean: 0.177594, max flag: 周线光脚阳线, max flag mean: 0.698443\n",
      "symbol: SZ300490, mean: 0.177104, max flag: 月线光脚阳线, max flag mean: 1.304263\n",
      "symbol: SH600702, mean: 0.176361, max flag: 月线反弹先锋, max flag mean: 0.847357\n",
      "symbol: SZ300497, mean: 0.175658, max flag: 月线光脚阳线, max flag mean: 1.304263\n",
      "symbol: SH600528, mean: 0.175009, max flag: 月线阳线, max flag mean: 0.968620\n",
      "symbol: SZ000885, mean: 0.172596, max flag: 周线kdj金叉, max flag mean: 0.715558\n",
      "symbol: SZ300148, mean: 0.169457, max flag: 月线放量拉升, max flag mean: 1.327705\n",
      "symbol: SZ002346, mean: 0.161445, max flag: 周线bias卖出信号, max flag mean: 0.875629\n",
      "symbol: SH601177, mean: 0.159992, max flag: 周线价升量缩, max flag mean: 0.695871\n",
      "symbol: SZ002601, mean: 0.159784, max flag: 月线bias卖出信号, max flag mean: 0.657534\n",
      "symbol: SH600429, mean: 0.155032, max flag: 月线价升量缩, max flag mean: 0.887369\n",
      "symbol: SZ000536, mean: 0.152548, max flag: 周线高开高走, max flag mean: 0.800830\n",
      "symbol: SZ002617, mean: 0.151350, max flag: 月线放量拉升, max flag mean: 1.327705\n",
      "symbol: SZ300495, mean: 0.146764, max flag: 月线价升量涨, max flag mean: 0.949969\n",
      "symbol: SH600348, mean: 0.144277, max flag: 月线放量, max flag mean: 0.554144\n",
      "symbol: SZ300443, mean: 0.143184, max flag: 周线价升量缩, max flag mean: 0.695871\n",
      "symbol: SH600531, mean: 0.128982, max flag: 月线反弹先锋, max flag mean: 0.847357\n",
      "symbol: SZ002473, mean: 0.124337, max flag: 业绩预告类型预增, max flag mean: 0.124337\n",
      "symbol: SZ002633, mean: 0.124337, max flag: 业绩预告类型预增, max flag mean: 0.124337\n",
      "symbol: SZ002707, mean: 0.124337, max flag: 业绩预告类型预增, max flag mean: 0.124337\n",
      "symbol: SZ300089, mean: 0.124337, max flag: 业绩预告类型预增, max flag mean: 0.124337\n",
      "symbol: SH600749, mean: 0.124337, max flag: 业绩预告类型预增, max flag mean: 0.124337\n",
      "symbol: SZ002049, mean: 0.124337, max flag: 业绩预告类型预增, max flag mean: 0.124337\n",
      "symbol: SZ002654, mean: 0.124337, max flag: 业绩预告类型预增, max flag mean: 0.124337\n",
      "symbol: SZ002286, mean: 0.124337, max flag: 业绩预告类型预增, max flag mean: 0.124337\n",
      "symbol: SZ002434, mean: 0.124337, max flag: 业绩预告类型预增, max flag mean: 0.124337\n",
      "symbol: SZ300238, mean: 0.124337, max flag: 业绩预告类型预增, max flag mean: 0.124337\n",
      "symbol: SZ002433, mean: 0.124337, max flag: 业绩预告类型预增, max flag mean: 0.124337\n",
      "symbol: SH600538, mean: 0.124337, max flag: 业绩预告类型预增, max flag mean: 0.124337\n",
      "symbol: SZ002573, mean: 0.124337, max flag: 业绩预告类型预增, max flag mean: 0.124337\n",
      "symbol: SZ300292, mean: 0.124337, max flag: 业绩预告类型预增, max flag mean: 0.124337\n",
      "symbol: SZ300430, mean: 0.124337, max flag: 业绩预告类型预增, max flag mean: 0.124337\n",
      "symbol: SZ002103, mean: 0.124337, max flag: 业绩预告类型预增, max flag mean: 0.124337\n",
      "symbol: SZ002427, mean: 0.124337, max flag: 业绩预告类型预增, max flag mean: 0.124337\n",
      "symbol: SZ002537, mean: 0.124337, max flag: 业绩预告类型预增, max flag mean: 0.124337\n",
      "symbol: SZ300501, mean: 0.124337, max flag: 业绩预告类型预增, max flag mean: 0.124337\n",
      "symbol: SZ002219, mean: 0.124337, max flag: 业绩预告类型预增, max flag mean: 0.124337\n",
      "symbol: SZ000033, mean: 0.124337, max flag: 业绩预告类型预增, max flag mean: 0.124337\n",
      "symbol: SZ000035, mean: 0.124337, max flag: 业绩预告类型预增, max flag mean: 0.124337\n",
      "symbol: SZ002567, mean: 0.124337, max flag: 业绩预告类型预增, max flag mean: 0.124337\n",
      "symbol: SZ002652, mean: 0.124337, max flag: 业绩预告类型预增, max flag mean: 0.124337\n",
      "symbol: SZ002788, mean: 0.124337, max flag: 业绩预告类型预增, max flag mean: 0.124337\n",
      "symbol: SZ002052, mean: 0.124337, max flag: 业绩预告类型预增, max flag mean: 0.124337\n",
      "symbol: SZ002089, mean: 0.124337, max flag: 业绩预告类型预增, max flag mean: 0.124337\n",
      "symbol: SZ002619, mean: 0.124337, max flag: 业绩预告类型预增, max flag mean: 0.124337\n",
      "symbol: SZ300279, mean: 0.124337, max flag: 业绩预告类型预增, max flag mean: 0.124337\n",
      "symbol: SZ002684, mean: 0.124337, max flag: 业绩预告类型预增, max flag mean: 0.124337\n",
      "symbol: SZ002006, mean: 0.124337, max flag: 业绩预告类型预增, max flag mean: 0.124337\n",
      "symbol: SZ300008, mean: 0.124337, max flag: 业绩预告类型预增, max flag mean: 0.124337\n",
      "symbol: SZ002532, mean: 0.124337, max flag: 业绩预告类型预增, max flag mean: 0.124337\n",
      "symbol: SZ002014, mean: 0.124337, max flag: 业绩预告类型预增, max flag mean: 0.124337\n",
      "symbol: SZ002363, mean: 0.124337, max flag: 业绩预告类型预增, max flag mean: 0.124337\n",
      "symbol: SZ300499, mean: 0.124337, max flag: 业绩预告类型预增, max flag mean: 0.124337\n",
      "symbol: SZ002373, mean: 0.124337, max flag: 业绩预告类型预增, max flag mean: 0.124337\n",
      "symbol: SZ300331, mean: 0.124337, max flag: 业绩预告类型预增, max flag mean: 0.124337\n",
      "symbol: SZ300498, mean: 0.124337, max flag: 业绩预告类型预增, max flag mean: 0.124337\n",
      "symbol: SZ002065, mean: 0.124337, max flag: 业绩预告类型预增, max flag mean: 0.124337\n",
      "symbol: SZ002326, mean: 0.124337, max flag: 业绩预告类型预增, max flag mean: 0.124337\n"
     ]
    },
    {
     "name": "stderr",
     "output_type": "stream",
     "text": [
      "/usr/local/lib/python3.5/site-packages/ipykernel/__main__.py:53: DeprecationWarning: insert is deprecated. Use insert_one or insert_many instead.\n"
     ]
    },
    {
     "data": {
      "text/plain": [
       "ObjectId('56a85e58ec21bb24bd51b2dc')"
      ]
     },
     "execution_count": 4,
     "metadata": {},
     "output_type": "execute_result"
    }
   ],
   "source": [
    "# check today's stocks with most buy flags\n",
    "import operator, datetime\n",
    "from datetime import datetime,timedelta\n",
    "from opentrader.common.db import db_ot\n",
    "\n",
    "f = open('iwencai_flag_performance_onedayf_all.json', 'r')\n",
    "flagperformance = json.loads(f.read())\n",
    "f.close()\n",
    "\n",
    "stockmeans = {}\n",
    "stock_maxflag = {}\n",
    "totalflags = 0\n",
    "totalmean = 0\n",
    "\n",
    "for (symbol, flags) in symbol_flags.items():\n",
    "    symbol = symbol_convert3(symbol)\n",
    "    stockmean = 0\n",
    "    stock_flag_count = 0\n",
    "    maxflag = ['', 0]\n",
    "    filter_symbol = False\n",
    "    for flag in flags:\n",
    "        if flag in ('停牌','涨停'):# 此处过滤 “涨停” 是为了滤掉ST股票的影响\n",
    "            filter_symbol = True\n",
    "        if flag not in flagperformance:\n",
    "            continue\n",
    "        stock_flag_count += 1\n",
    "        stockmean += flagperformance[flag]['avr']\n",
    "        totalflags += 1\n",
    "        totalmean += flagperformance[flag]['avr']\n",
    "        if flagperformance[flag]['avr'] > maxflag[1]:\n",
    "            maxflag[1] = flagperformance[flag]['avr']\n",
    "            maxflag[0] = flag\n",
    "    if stock_flag_count == 0:\n",
    "        continue\n",
    "    stockmean = stockmean / stock_flag_count\n",
    "    if stock_percent[symbol] > 9.8 or filter_symbol:\n",
    "        continue\n",
    "    stockmeans[symbol] = stockmean\n",
    "    stock_maxflag[symbol] = maxflag\n",
    "            \n",
    "sorted_x = sorted(stockmeans.items(), key=operator.itemgetter(1))\n",
    "sorted_x.reverse()\n",
    "print(totalmean/totalflags)\n",
    "print(len(sorted_x))\n",
    "\n",
    "outdata = {\"mode\":mode, \"index\":totalmean/totalflags, \"data\":[], \"time\":datetime.now()}\n",
    "for each in sorted_x[:100]:\n",
    "    outdata['data'].append({\"symbol\":each[0], \"mean\":each[1], \"max_flag\":stock_maxflag[each[0]][0], \"max_flag_mean\":stock_maxflag[each[0]][1]})\n",
    "    print(\"symbol: %s, mean: %f, max flag: %s, max flag mean: %f\" % (each[0], each[1], stock_maxflag[each[0]][0], stock_maxflag[each[0]][1]))\n",
    "#f = open(\"./output_\"+mode+\"_\"+str(date.today())+\".json\", \"w\")\n",
    "#f.write(json.dumps(outdata))\n",
    "#f.close()\n",
    "db_ot.str_419.insert(outdata)"
   ]
  },
  {
   "cell_type": "raw",
   "metadata": {
    "collapsed": true
   },
   "source": []
  },
  {
   "cell_type": "markdown",
   "metadata": {
    "collapsed": true
   },
   "source": []
  }
 ],
 "metadata": {
  "kernelspec": {
   "display_name": "Python 3",
   "language": "python",
   "name": "python3"
  },
  "language_info": {
   "codemirror_mode": {
    "name": "ipython",
    "version": 3
   },
   "file_extension": ".py",
   "mimetype": "text/x-python",
   "name": "python",
   "nbconvert_exporter": "python",
   "pygments_lexer": "ipython3",
   "version": "3.5.1"
  }
 },
 "nbformat": 4,
 "nbformat_minor": 0
}
