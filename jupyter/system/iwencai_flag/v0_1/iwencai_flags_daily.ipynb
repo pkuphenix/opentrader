{
 "cells": [
  {
   "cell_type": "code",
   "execution_count": null,
   "metadata": {
    "collapsed": false
   },
   "outputs": [],
   "source": [
    "# 本脚本用于每日实盘操作及理论值的对比，整个脚本的运行有两种模式：\n",
    "#real模式用于收盘前的实盘操作\n",
    "#close模式用于收盘后的检验\n",
    "mode = \"close\"\n",
    "from opentrader.core.crawler import *\n",
    "from opentrader.agents.xueqiu.api import *\n",
    "from opentrader.agents.ths.api import *\n",
    "c = CNCrawler()\n",
    "stock_list = c.get_stock_list()\n",
    "stock_percent = {}\n",
    "for each in stock_list:\n",
    "    stock_percent[each['symbol']] = float(each['percent'])"
   ]
  },
  {
   "cell_type": "code",
   "execution_count": null,
   "metadata": {
    "collapsed": false
   },
   "outputs": [],
   "source": [
    "# Use multiple threads to query iwencai flags and symbols\n",
    "from opentrader.common.db import db_ot\n",
    "from opentrader.common.utils import d2dt\n",
    "from pymongo.errors import *\n",
    "import threading,json,sys\n",
    "from datetime import date\n",
    "flagf = open(\"iwencai_flags.json\", \"r\")\n",
    "allflags = json.loads(flagf.read())\n",
    "lock_allflags = threading.RLock()\n",
    "flagf.close()\n",
    "\n",
    "flag_symbols = {} # {\"...flag...\":[<symbol1>, <symbol2>, ...], ...}\n",
    "lock = threading.RLock()\n",
    "\n",
    "class FlagCrawler(threading.Thread):\n",
    "    def __init__(self):\n",
    "        threading.Thread.__init__(self)\n",
    "        self.ths = THSAPI()\n",
    "\n",
    "    def run(self):\n",
    "        sys.stdout.write('b')\n",
    "        sys.stdout.flush()\n",
    "        i = 0\n",
    "        while True:\n",
    "            lock_allflags.acquire()\n",
    "            try:\n",
    "                flag = allflags.pop()\n",
    "            except IndexError:\n",
    "                lock_allflags.release()\n",
    "                break\n",
    "            lock_allflags.release()\n",
    "            # search each flag at iwencai\n",
    "            result = self.ths.query_iwencai(date.today().strftime('%Y年%m月%d日')+flag)\n",
    "            try:\n",
    "                result = result['result']\n",
    "            except TypeError as e:\n",
    "                sys.stdout.write(str(e))\n",
    "            i += 1\n",
    "            if i%2 == 0:\n",
    "                sys.stdout.write(\".\")\n",
    "            lock.acquire()\n",
    "            flag_symbols[flag] = [each[0] for each in result]\n",
    "            lock.release()\n",
    "            sys.stdout.flush()\n",
    "        sys.stdout.write('e%d' % (i))\n",
    "        sys.stdout.flush()\n",
    "\n",
    "threads = []\n",
    "for i in range(20):\n",
    "    thread = FlagCrawler()\n",
    "    threads.append(thread)\n",
    "    thread.start()\n",
    "\n",
    "for each in threads:\n",
    "    each.join()\n",
    "        \n",
    "f = open(\"./flag_symbols_\"+mode+\"_\"+str(date.today())+\".json\", \"w\")\n",
    "f.write(json.dumps(flag_symbols))\n",
    "f.close()"
   ]
  },
  {
   "cell_type": "code",
   "execution_count": null,
   "metadata": {
    "collapsed": false
   },
   "outputs": [],
   "source": [
    "# Turn {flag:[symbols]} into {symbol:[flags]}\n",
    "symbol_flags = {}\n",
    "for (flag, symbols) in flag_symbols.items():\n",
    "    for each in symbols:\n",
    "        if each not in symbol_flags:\n",
    "            symbol_flags[each] = []\n",
    "        symbol_flags[each].append(flag)\n",
    "print(\"total flags: %d, total symbols: %d\" % (len(flag_symbols), len(symbol_flags)))"
   ]
  },
  {
   "cell_type": "code",
   "execution_count": null,
   "metadata": {
    "collapsed": false,
    "scrolled": true
   },
   "outputs": [],
   "source": [
    "# check today's stocks with most buy flags\n",
    "import operator\n",
    "from datetime import datetime,timedelta\n",
    "\n",
    "f = open('iwencai_flag_performance_onedayf_2015.json', 'r')\n",
    "flagperformance = json.loads(f.read())\n",
    "f.close()\n",
    "\n",
    "stockmeans = {}\n",
    "stock_maxflag = {}\n",
    "totalflags = 0\n",
    "totalmean = 0\n",
    "\n",
    "for (symbol, flags) in symbol_flags.items():\n",
    "    symbol = symbol_convert3(symbol)\n",
    "    stockmean = 0\n",
    "    stock_flag_count = 0\n",
    "    maxflag = ['', 0]\n",
    "    for flag in flags:\n",
    "        if flag == '停牌':\n",
    "            continue\n",
    "        if flag not in flagperformance:\n",
    "            continue\n",
    "        stock_flag_count += 1\n",
    "        stockmean += flagperformance[flag]['avr']\n",
    "        totalflags += 1\n",
    "        totalmean += flagperformance[flag]['avr']\n",
    "        if flagperformance[flag]['avr'] > maxflag[1]:\n",
    "            maxflag[1] = flagperformance[flag]['avr']\n",
    "            maxflag[0] = flag\n",
    "    if stock_flag_count == 0:\n",
    "        continue\n",
    "    stockmean = stockmean / stock_flag_count\n",
    "    if symbol not in stock_percent or stock_percent[symbol] > 9.8:\n",
    "        continue\n",
    "    stockmeans[symbol] = stockmean\n",
    "    stock_maxflag[symbol] = maxflag\n",
    "            \n",
    "sorted_x = sorted(stockmeans.items(), key=operator.itemgetter(1))\n",
    "sorted_x.reverse()\n",
    "print(totalmean/totalflags)\n",
    "print(len(sorted_x))\n",
    "\n",
    "output = {\"position\":totalmean/totalflags/1.0116, \"result\":[]}\n",
    "for each in sorted_x[:100]:\n",
    "    output['result'].append({\"symbol\":each[0], \"mean\":each[1], \"max_flag\":stock_maxflag[each[0]][0], \"max_flag_mean\":stock_maxflag[each[0]][1]})\n",
    "    print(\"symbol: %s, mean: %f, max flag: %s, max flag mean: %f\" % (each[0], each[1], stock_maxflag[each[0]][0], stock_maxflag[each[0]][1]))\n",
    "f = open(\"./output_\"+mode+\"_\"+str(date.today())+\".json\", \"w\")\n",
    "f.write(json.dumps(output))\n",
    "f.close()"
   ]
  },
  {
   "cell_type": "raw",
   "metadata": {
    "collapsed": true
   },
   "source": []
  },
  {
   "cell_type": "markdown",
   "metadata": {
    "collapsed": true
   },
   "source": []
  }
 ],
 "metadata": {
  "kernelspec": {
   "display_name": "Python 3",
   "language": "python",
   "name": "python3"
  },
  "language_info": {
   "codemirror_mode": {
    "name": "ipython",
    "version": 3
   },
   "file_extension": ".py",
   "mimetype": "text/x-python",
   "name": "python",
   "nbconvert_exporter": "python",
   "pygments_lexer": "ipython3",
   "version": "3.4.3"
  }
 },
 "nbformat": 4,
 "nbformat_minor": 0
}
