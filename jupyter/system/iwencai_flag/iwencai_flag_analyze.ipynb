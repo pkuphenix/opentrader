{
 "cells": [
  {
   "cell_type": "code",
   "execution_count": null,
   "metadata": {
    "collapsed": false
   },
   "outputs": [],
   "source": [
    "# 分析各flag的单日收益分布\n",
    "import json\n",
    "\n",
    "onedayf_data = {} # <flag_name>:[...]\n",
    "# 将各年数据读入内存并合并\n",
    "for year in ('2008', '2009', '2010', '2011'):\n",
    "    print(year)\n",
    "    f = open(\"iwencai_flag_stats_%s.json\" % year, 'r')\n",
    "    data = json.loads(f.read())\n",
    "    for (flag, flag_data) in data.items():\n",
    "        if flag in onedayf_data:\n",
    "            onedayf_data[flag] += flag_data['onedayf']\n",
    "        else:\n",
    "            onedayf_data[flag] = flag_data['onedayf']"
   ]
  },
  {
   "cell_type": "code",
   "execution_count": null,
   "metadata": {
    "collapsed": false
   },
   "outputs": [],
   "source": [
    "from pandas import Series\n",
    "%matplotlib inline\n",
    "import numpy as np\n",
    "import matplotlib.pyplot as plt\n",
    "\n",
    "means_dict = {}\n",
    "series_dict = {}\n",
    "for (flag, data) in onedayf_data.items():\n",
    "    new_data = []\n",
    "    for each in data:\n",
    "        if each <= 10.0 and each >= -10.0:\n",
    "            new_data.append(each)\n",
    "    s = Series(new_data)\n",
    "    series_dict[flag] = s\n",
    "    means_dict[flag] = s.mean()"
   ]
  },
  {
   "cell_type": "code",
   "execution_count": null,
   "metadata": {
    "collapsed": false
   },
   "outputs": [],
   "source": [
    "means_series = Series(means_dict)\n",
    "means_series.sort_values(inplace=True)\n",
    "for each in means_series.keys():\n",
    "    s = series_dict[each]\n",
    "    print(\"%s: count %d mean %f\" % (each, s.count(), means_dict[each]))\n",
    "    s.hist()\n",
    "    plt.show()"
   ]
  },
  {
   "cell_type": "code",
   "execution_count": null,
   "metadata": {
    "collapsed": true
   },
   "outputs": [],
   "source": []
  }
 ],
 "metadata": {
  "kernelspec": {
   "display_name": "Python 3",
   "language": "python",
   "name": "python3"
  },
  "language_info": {
   "codemirror_mode": {
    "name": "ipython",
    "version": 3
   },
   "file_extension": ".py",
   "mimetype": "text/x-python",
   "name": "python",
   "nbconvert_exporter": "python",
   "pygments_lexer": "ipython3",
   "version": "3.4.3"
  }
 },
 "nbformat": 4,
 "nbformat_minor": 0
}
