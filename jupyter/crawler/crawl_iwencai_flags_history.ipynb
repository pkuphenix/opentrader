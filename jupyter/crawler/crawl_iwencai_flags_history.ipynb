{
 "cells": [
  {
   "cell_type": "code",
   "execution_count": 1,
   "metadata": {
    "collapsed": false
   },
   "outputs": [],
   "source": [
    "#crawl_iwencai_flags_history\n",
    "from opentrader.core.crawler import *\n",
    "from opentrader.agents.xueqiu.api import *\n",
    "from opentrader.agents.ths.api import *\n",
    "from opentrader.core.ticker import *\n",
    "from opentrader.common.db import db_ot\n",
    "from opentrader.common.utils import d2dt\n",
    "from pymongo.errors import *\n",
    "\n",
    "ths = THSAPI()\n",
    "start_date = gen_time('2015-01-01 00:00:00').date()\n",
    "end_date = gen_time('2015-12-16 00:00:00').date()\n",
    "date = start_date\n",
    "dates = []\n",
    "while date <= end_date:\n",
    "    if TradeCalendar.check_date(date):\n",
    "        dates.append(date)\n",
    "    date += timedelta(1)"
   ]
  },
  {
   "cell_type": "code",
   "execution_count": 2,
   "metadata": {
    "collapsed": false,
    "scrolled": false
   },
   "outputs": [
    {
     "name": "stdout",
     "output_type": "stream",
     "text": [
      "http://www.iwencai.com/stockpick/search?typed=1&preParams=&ts=1&perpage=4000&f=1&qs=1&selfsectsn=&querytype=&searchfilter=&tid=stockpick&w=2015年01月05日周线kdj超卖\n",
      "1\n",
      "E11000 duplicate key error index: opentrader.iwencai_flag_history.$flag_1_date_1 dup key: { : \"周线kdj超卖\", : new Date(1420416000000) }\n",
      "http://www.iwencai.com/stockpick/search?typed=1&preParams=&ts=1&perpage=4000&f=1&qs=1&selfsectsn=&querytype=&searchfilter=&tid=stockpick&w=2015年01月05日月线kdj超卖\n",
      "2\n",
      "E11000 duplicate key error index: opentrader.iwencai_flag_history.$flag_1_date_1 dup key: { : \"月线kdj超卖\", : new Date(1420416000000) }\n",
      "http://www.iwencai.com/stockpick/search?typed=1&preParams=&ts=1&perpage=4000&f=1&qs=1&selfsectsn=&querytype=&searchfilter=&tid=stockpick&w=2015年01月05日skdj超卖\n",
      "3\n",
      "E11000 duplicate key error index: opentrader.iwencai_flag_history.$flag_1_date_1 dup key: { : \"skdj超卖\", : new Date(1420416000000) }\n",
      "http://www.iwencai.com/stockpick/search?typed=1&preParams=&ts=1&perpage=4000&f=1&qs=1&selfsectsn=&querytype=&searchfilter=&tid=stockpick&w=2015年01月05日kdj超卖\n",
      "4\n",
      "E11000 duplicate key error index: opentrader.iwencai_flag_history.$flag_1_date_1 dup key: { : \"kdj超卖\", : new Date(1420416000000) }\n",
      "http://www.iwencai.com/stockpick/search?typed=1&preParams=&ts=1&perpage=4000&f=1&qs=1&selfsectsn=&querytype=&searchfilter=&tid=stockpick&w=2015年01月05日股价创历史新高\n",
      "5\n",
      "E11000 duplicate key error index: opentrader.iwencai_flag_history.$flag_1_date_1 dup key: { : \"股价创历史新高\", : new Date(1420416000000) }\n",
      "http://www.iwencai.com/stockpick/search?typed=1&preParams=&ts=1&perpage=4000&f=1&qs=1&selfsectsn=&querytype=&searchfilter=&tid=stockpick&w=2015年01月05日昨日登上龙虎榜\n",
      "6\n",
      "E11000 duplicate key error index: opentrader.iwencai_flag_history.$flag_1_date_1 dup key: { : \"昨日登上龙虎榜\", : new Date(1420416000000) }\n",
      "http://www.iwencai.com/stockpick/search?typed=1&preParams=&ts=1&perpage=4000&f=1&qs=1&selfsectsn=&querytype=&searchfilter=&tid=stockpick&w=2015年01月05日连续3日涨停\n",
      "7\n",
      "E11000 duplicate key error index: opentrader.iwencai_flag_history.$flag_1_date_1 dup key: { : \"连续3日涨停\", : new Date(1420416000000) }\n",
      "http://www.iwencai.com/stockpick/search?typed=1&preParams=&ts=1&perpage=4000&f=1&qs=1&selfsectsn=&querytype=&searchfilter=&tid=stockpick&w=2015年01月05日今日涨停\n",
      "8\n",
      "E11000 duplicate key error index: opentrader.iwencai_flag_history.$flag_1_date_1 dup key: { : \"今日涨停\", : new Date(1420416000000) }\n",
      "http://www.iwencai.com/stockpick/search?typed=1&preParams=&ts=1&perpage=4000&f=1&qs=1&selfsectsn=&querytype=&searchfilter=&tid=stockpick&w=2015年01月05日连涨5天\n",
      "9\n",
      "E11000 duplicate key error index: opentrader.iwencai_flag_history.$flag_1_date_1 dup key: { : \"连涨5天\", : new Date(1420416000000) }\n",
      "http://www.iwencai.com/stockpick/search?typed=1&preParams=&ts=1&perpage=4000&f=1&qs=1&selfsectsn=&querytype=&searchfilter=&tid=stockpick&w=2015年01月05日周线阳线\n",
      "10\n",
      "E11000 duplicate key error index: opentrader.iwencai_flag_history.$flag_1_date_1 dup key: { : \"周线阳线\", : new Date(1420416000000) }\n",
      "http://www.iwencai.com/stockpick/search?typed=1&preParams=&ts=1&perpage=4000&f=1&qs=1&selfsectsn=&querytype=&searchfilter=&tid=stockpick&w=2015年01月05日周线阶段放量\n",
      "11\n",
      "E11000 duplicate key error index: opentrader.iwencai_flag_history.$flag_1_date_1 dup key: { : \"周线阶段放量\", : new Date(1420416000000) }\n",
      "http://www.iwencai.com/stockpick/search?typed=1&preParams=&ts=1&perpage=4000&f=1&qs=1&selfsectsn=&querytype=&searchfilter=&tid=stockpick&w=2015年01月05日周线价升量涨\n",
      "12\n",
      "E11000 duplicate key error index: opentrader.iwencai_flag_history.$flag_1_date_1 dup key: { : \"周线价升量涨\", : new Date(1420416000000) }\n",
      "http://www.iwencai.com/stockpick/search?typed=1&preParams=&ts=1&perpage=4000&f=1&qs=1&selfsectsn=&querytype=&searchfilter=&tid=stockpick&w=2015年01月05日月线光脚阳线\n",
      "13\n",
      "E11000 duplicate key error index: opentrader.iwencai_flag_history.$flag_1_date_1 dup key: { : \"月线光脚阳线\", : new Date(1420416000000) }\n",
      "http://www.iwencai.com/stockpick/search?typed=1&preParams=&ts=1&perpage=4000&f=1&qs=1&selfsectsn=&querytype=&searchfilter=&tid=stockpick&w=2015年01月05日月线光头光脚阳线\n",
      "14\n",
      "E11000 duplicate key error index: opentrader.iwencai_flag_history.$flag_1_date_1 dup key: { : \"月线光头光脚阳线\", : new Date(1420416000000) }\n",
      "http://www.iwencai.com/stockpick/search?typed=1&preParams=&ts=1&perpage=4000&f=1&qs=1&selfsectsn=&querytype=&searchfilter=&tid=stockpick&w=2015年01月05日跳空高开\n",
      "15\n",
      "E11000 duplicate key error index: opentrader.iwencai_flag_history.$flag_1_date_1 dup key: { : \"跳空高开\", : new Date(1420416000000) }\n",
      "http://www.iwencai.com/stockpick/search?typed=1&preParams=&ts=1&perpage=4000&f=1&qs=1&selfsectsn=&querytype=&searchfilter=&tid=stockpick&w=2015年01月05日月线阶段放量\n",
      "16\n",
      "E11000 duplicate key error index: opentrader.iwencai_flag_history.$flag_1_date_1 dup key: { : \"月线阶段放量\", : new Date(1420416000000) }\n",
      "http://www.iwencai.com/stockpick/search?typed=1&preParams=&ts=1&perpage=4000&f=1&qs=1&selfsectsn=&querytype=&searchfilter=&tid=stockpick&w=2015年01月05日阶段放量\n",
      "17\n",
      "E11000 duplicate key error index: opentrader.iwencai_flag_history.$flag_1_date_1 dup key: { : \"阶段放量\", : new Date(1420416000000) }\n",
      "http://www.iwencai.com/stockpick/search?typed=1&preParams=&ts=1&perpage=4000&f=1&qs=1&selfsectsn=&querytype=&searchfilter=&tid=stockpick&w=2015年01月05日月线阳线\n",
      "18\n",
      "E11000 duplicate key error index: opentrader.iwencai_flag_history.$flag_1_date_1 dup key: { : \"月线阳线\", : new Date(1420416000000) }\n",
      "http://www.iwencai.com/stockpick/search?typed=1&preParams=&ts=1&perpage=4000&f=1&qs=1&selfsectsn=&querytype=&searchfilter=&tid=stockpick&w=2015年01月05日月线光头阳线\n",
      "19\n",
      "E11000 duplicate key error index: opentrader.iwencai_flag_history.$flag_1_date_1 dup key: { : \"月线光头阳线\", : new Date(1420416000000) }\n",
      "http://www.iwencai.com/stockpick/search?typed=1&preParams=&ts=1&perpage=4000&f=1&qs=1&selfsectsn=&querytype=&searchfilter=&tid=stockpick&w=2015年01月05日周线光头阳线\n",
      "20\n",
      "E11000 duplicate key error index: opentrader.iwencai_flag_history.$flag_1_date_1 dup key: { : \"周线光头阳线\", : new Date(1420416000000) }\n",
      "http://www.iwencai.com/stockpick/search?typed=1&preParams=&ts=1&perpage=4000&f=1&qs=1&selfsectsn=&querytype=&searchfilter=&tid=stockpick&w=2015年01月05日周线光脚阳线\n",
      "21\n",
      "E11000 duplicate key error index: opentrader.iwencai_flag_history.$flag_1_date_1 dup key: { : \"周线光脚阳线\", : new Date(1420416000000) }\n",
      "http://www.iwencai.com/stockpick/search?typed=1&preParams=&ts=1&perpage=4000&f=1&qs=1&selfsectsn=&querytype=&searchfilter=&tid=stockpick&w=2015年01月05日周线高开高走\n",
      "22\n",
      "E11000 duplicate key error index: opentrader.iwencai_flag_history.$flag_1_date_1 dup key: { : \"周线高开高走\", : new Date(1420416000000) }\n",
      "http://www.iwencai.com/stockpick/search?typed=1&preParams=&ts=1&perpage=4000&f=1&qs=1&selfsectsn=&querytype=&searchfilter=&tid=stockpick&w=2015年01月05日周线博弈K线长阳\n",
      "23\n",
      "E11000 duplicate key error index: opentrader.iwencai_flag_history.$flag_1_date_1 dup key: { : \"周线博弈K线长阳\", : new Date(1420416000000) }\n",
      "http://www.iwencai.com/stockpick/search?typed=1&preParams=&ts=1&perpage=4000&f=1&qs=1&selfsectsn=&querytype=&searchfilter=&tid=stockpick&w=2015年01月05日尖三兵\n",
      "24\n",
      "E11000 duplicate key error index: opentrader.iwencai_flag_history.$flag_1_date_1 dup key: { : \"尖三兵\", : new Date(1420416000000) }\n",
      "http://www.iwencai.com/stockpick/search?typed=1&preParams=&ts=1&perpage=4000&f=1&qs=1&selfsectsn=&querytype=&searchfilter=&tid=stockpick&w=2015年01月05日周线低位大阳\n",
      "25\n",
      "E11000 duplicate key error index: opentrader.iwencai_flag_history.$flag_1_date_1 dup key: { : \"周线低位大阳\", : new Date(1420416000000) }\n",
      "http://www.iwencai.com/stockpick/search?typed=1&preParams=&ts=1&perpage=4000&f=1&qs=1&selfsectsn=&querytype=&searchfilter=&tid=stockpick&w=2015年01月05日向上跳空缺口\n"
     ]
    },
    {
     "ename": "KeyboardInterrupt",
     "evalue": "",
     "output_type": "error",
     "traceback": [
      "\u001b[0;31m---------------------------------------------------------------------------\u001b[0m",
      "\u001b[0;31mTypeError\u001b[0m                                 Traceback (most recent call last)",
      "\u001b[0;32m/usr/local/lib/python3.4/site-packages/requests/packages/urllib3/connectionpool.py\u001b[0m in \u001b[0;36m_make_request\u001b[0;34m(self, conn, method, url, timeout, **httplib_request_kw)\u001b[0m\n\u001b[1;32m    375\u001b[0m             \u001b[0;32mtry\u001b[0m\u001b[0;34m:\u001b[0m  \u001b[0;31m# Python 2.7, use buffering of HTTP responses\u001b[0m\u001b[0;34m\u001b[0m\u001b[0m\n\u001b[0;32m--> 376\u001b[0;31m                 \u001b[0mhttplib_response\u001b[0m \u001b[0;34m=\u001b[0m \u001b[0mconn\u001b[0m\u001b[0;34m.\u001b[0m\u001b[0mgetresponse\u001b[0m\u001b[0;34m(\u001b[0m\u001b[0mbuffering\u001b[0m\u001b[0;34m=\u001b[0m\u001b[0;32mTrue\u001b[0m\u001b[0;34m)\u001b[0m\u001b[0;34m\u001b[0m\u001b[0m\n\u001b[0m\u001b[1;32m    377\u001b[0m             \u001b[0;32mexcept\u001b[0m \u001b[0mTypeError\u001b[0m\u001b[0;34m:\u001b[0m  \u001b[0;31m# Python 2.6 and older\u001b[0m\u001b[0;34m\u001b[0m\u001b[0m\n",
      "\u001b[0;31mTypeError\u001b[0m: getresponse() got an unexpected keyword argument 'buffering'",
      "\nDuring handling of the above exception, another exception occurred:\n",
      "\u001b[0;31mKeyboardInterrupt\u001b[0m                         Traceback (most recent call last)",
      "\u001b[0;32m<ipython-input-2-032278bb4410>\u001b[0m in \u001b[0;36m<module>\u001b[0;34m()\u001b[0m\n\u001b[1;32m      9\u001b[0m     \u001b[0;32mfor\u001b[0m \u001b[0mflag\u001b[0m \u001b[0;32min\u001b[0m \u001b[0mflags\u001b[0m\u001b[0;34m:\u001b[0m\u001b[0;34m\u001b[0m\u001b[0m\n\u001b[1;32m     10\u001b[0m         \u001b[0;31m# search each flag at iwencai\u001b[0m\u001b[0;34m\u001b[0m\u001b[0;34m\u001b[0m\u001b[0m\n\u001b[0;32m---> 11\u001b[0;31m         \u001b[0mresult\u001b[0m \u001b[0;34m=\u001b[0m \u001b[0mths\u001b[0m\u001b[0;34m.\u001b[0m\u001b[0mquery_iwencai\u001b[0m\u001b[0;34m(\u001b[0m\u001b[0mdate\u001b[0m\u001b[0;34m.\u001b[0m\u001b[0mstrftime\u001b[0m\u001b[0;34m(\u001b[0m\u001b[0;34m'%Y年%m月%d日'\u001b[0m\u001b[0;34m)\u001b[0m\u001b[0;34m+\u001b[0m\u001b[0mflag\u001b[0m\u001b[0;34m)\u001b[0m\u001b[0;34m\u001b[0m\u001b[0m\n\u001b[0m\u001b[1;32m     12\u001b[0m         \u001b[0mresult\u001b[0m \u001b[0;34m=\u001b[0m \u001b[0mresult\u001b[0m\u001b[0;34m[\u001b[0m\u001b[0;34m'result'\u001b[0m\u001b[0;34m]\u001b[0m\u001b[0;34m\u001b[0m\u001b[0m\n\u001b[1;32m     13\u001b[0m         \u001b[0;31m# insert into db\u001b[0m\u001b[0;34m\u001b[0m\u001b[0;34m\u001b[0m\u001b[0m\n",
      "\u001b[0;32m/Users/qianli/pro/opentrader/agents/ths/api.py\u001b[0m in \u001b[0;36mquery_iwencai\u001b[0;34m(self, query)\u001b[0m\n\u001b[1;32m    107\u001b[0m         }\n\u001b[1;32m    108\u001b[0m         \u001b[0mprint\u001b[0m\u001b[0;34m(\u001b[0m\u001b[0murl\u001b[0m\u001b[0;34m)\u001b[0m\u001b[0;34m\u001b[0m\u001b[0m\n\u001b[0;32m--> 109\u001b[0;31m         \u001b[0mr\u001b[0m \u001b[0;34m=\u001b[0m \u001b[0mrequests\u001b[0m\u001b[0;34m.\u001b[0m\u001b[0mget\u001b[0m\u001b[0;34m(\u001b[0m\u001b[0murl\u001b[0m\u001b[0;34m,\u001b[0m \u001b[0mheaders\u001b[0m\u001b[0;34m=\u001b[0m\u001b[0mheaders\u001b[0m\u001b[0;34m)\u001b[0m\u001b[0;34m\u001b[0m\u001b[0m\n\u001b[0m\u001b[1;32m    110\u001b[0m         \u001b[0;31m# look for: \"token\":\"3c056e348add1a00a81b17e2ec4280b4\"\u001b[0m\u001b[0;34m\u001b[0m\u001b[0;34m\u001b[0m\u001b[0m\n\u001b[1;32m    111\u001b[0m         \u001b[0mlines\u001b[0m \u001b[0;34m=\u001b[0m \u001b[0mr\u001b[0m\u001b[0;34m.\u001b[0m\u001b[0mtext\u001b[0m\u001b[0;34m.\u001b[0m\u001b[0msplit\u001b[0m\u001b[0;34m(\u001b[0m\u001b[0;34m'\\n'\u001b[0m\u001b[0;34m)\u001b[0m\u001b[0;34m\u001b[0m\u001b[0m\n",
      "\u001b[0;32m/usr/local/lib/python3.4/site-packages/requests/api.py\u001b[0m in \u001b[0;36mget\u001b[0;34m(url, params, **kwargs)\u001b[0m\n\u001b[1;32m     67\u001b[0m \u001b[0;34m\u001b[0m\u001b[0m\n\u001b[1;32m     68\u001b[0m     \u001b[0mkwargs\u001b[0m\u001b[0;34m.\u001b[0m\u001b[0msetdefault\u001b[0m\u001b[0;34m(\u001b[0m\u001b[0;34m'allow_redirects'\u001b[0m\u001b[0;34m,\u001b[0m \u001b[0;32mTrue\u001b[0m\u001b[0;34m)\u001b[0m\u001b[0;34m\u001b[0m\u001b[0m\n\u001b[0;32m---> 69\u001b[0;31m     \u001b[0;32mreturn\u001b[0m \u001b[0mrequest\u001b[0m\u001b[0;34m(\u001b[0m\u001b[0;34m'get'\u001b[0m\u001b[0;34m,\u001b[0m \u001b[0murl\u001b[0m\u001b[0;34m,\u001b[0m \u001b[0mparams\u001b[0m\u001b[0;34m=\u001b[0m\u001b[0mparams\u001b[0m\u001b[0;34m,\u001b[0m \u001b[0;34m**\u001b[0m\u001b[0mkwargs\u001b[0m\u001b[0;34m)\u001b[0m\u001b[0;34m\u001b[0m\u001b[0m\n\u001b[0m\u001b[1;32m     70\u001b[0m \u001b[0;34m\u001b[0m\u001b[0m\n\u001b[1;32m     71\u001b[0m \u001b[0;34m\u001b[0m\u001b[0m\n",
      "\u001b[0;32m/usr/local/lib/python3.4/site-packages/requests/api.py\u001b[0m in \u001b[0;36mrequest\u001b[0;34m(method, url, **kwargs)\u001b[0m\n\u001b[1;32m     48\u001b[0m \u001b[0;34m\u001b[0m\u001b[0m\n\u001b[1;32m     49\u001b[0m     \u001b[0msession\u001b[0m \u001b[0;34m=\u001b[0m \u001b[0msessions\u001b[0m\u001b[0;34m.\u001b[0m\u001b[0mSession\u001b[0m\u001b[0;34m(\u001b[0m\u001b[0;34m)\u001b[0m\u001b[0;34m\u001b[0m\u001b[0m\n\u001b[0;32m---> 50\u001b[0;31m     \u001b[0mresponse\u001b[0m \u001b[0;34m=\u001b[0m \u001b[0msession\u001b[0m\u001b[0;34m.\u001b[0m\u001b[0mrequest\u001b[0m\u001b[0;34m(\u001b[0m\u001b[0mmethod\u001b[0m\u001b[0;34m=\u001b[0m\u001b[0mmethod\u001b[0m\u001b[0;34m,\u001b[0m \u001b[0murl\u001b[0m\u001b[0;34m=\u001b[0m\u001b[0murl\u001b[0m\u001b[0;34m,\u001b[0m \u001b[0;34m**\u001b[0m\u001b[0mkwargs\u001b[0m\u001b[0;34m)\u001b[0m\u001b[0;34m\u001b[0m\u001b[0m\n\u001b[0m\u001b[1;32m     51\u001b[0m     \u001b[0;31m# By explicitly closing the session, we avoid leaving sockets open which\u001b[0m\u001b[0;34m\u001b[0m\u001b[0;34m\u001b[0m\u001b[0m\n\u001b[1;32m     52\u001b[0m     \u001b[0;31m# can trigger a ResourceWarning in some cases, and look like a memory leak\u001b[0m\u001b[0;34m\u001b[0m\u001b[0;34m\u001b[0m\u001b[0m\n",
      "\u001b[0;32m/usr/local/lib/python3.4/site-packages/requests/sessions.py\u001b[0m in \u001b[0;36mrequest\u001b[0;34m(self, method, url, params, data, headers, cookies, files, auth, timeout, allow_redirects, proxies, hooks, stream, verify, cert, json)\u001b[0m\n\u001b[1;32m    466\u001b[0m         }\n\u001b[1;32m    467\u001b[0m         \u001b[0msend_kwargs\u001b[0m\u001b[0;34m.\u001b[0m\u001b[0mupdate\u001b[0m\u001b[0;34m(\u001b[0m\u001b[0msettings\u001b[0m\u001b[0;34m)\u001b[0m\u001b[0;34m\u001b[0m\u001b[0m\n\u001b[0;32m--> 468\u001b[0;31m         \u001b[0mresp\u001b[0m \u001b[0;34m=\u001b[0m \u001b[0mself\u001b[0m\u001b[0;34m.\u001b[0m\u001b[0msend\u001b[0m\u001b[0;34m(\u001b[0m\u001b[0mprep\u001b[0m\u001b[0;34m,\u001b[0m \u001b[0;34m**\u001b[0m\u001b[0msend_kwargs\u001b[0m\u001b[0;34m)\u001b[0m\u001b[0;34m\u001b[0m\u001b[0m\n\u001b[0m\u001b[1;32m    469\u001b[0m \u001b[0;34m\u001b[0m\u001b[0m\n\u001b[1;32m    470\u001b[0m         \u001b[0;32mreturn\u001b[0m \u001b[0mresp\u001b[0m\u001b[0;34m\u001b[0m\u001b[0m\n",
      "\u001b[0;32m/usr/local/lib/python3.4/site-packages/requests/sessions.py\u001b[0m in \u001b[0;36msend\u001b[0;34m(self, request, **kwargs)\u001b[0m\n\u001b[1;32m    574\u001b[0m \u001b[0;34m\u001b[0m\u001b[0m\n\u001b[1;32m    575\u001b[0m         \u001b[0;31m# Send the request\u001b[0m\u001b[0;34m\u001b[0m\u001b[0;34m\u001b[0m\u001b[0m\n\u001b[0;32m--> 576\u001b[0;31m         \u001b[0mr\u001b[0m \u001b[0;34m=\u001b[0m \u001b[0madapter\u001b[0m\u001b[0;34m.\u001b[0m\u001b[0msend\u001b[0m\u001b[0;34m(\u001b[0m\u001b[0mrequest\u001b[0m\u001b[0;34m,\u001b[0m \u001b[0;34m**\u001b[0m\u001b[0mkwargs\u001b[0m\u001b[0;34m)\u001b[0m\u001b[0;34m\u001b[0m\u001b[0m\n\u001b[0m\u001b[1;32m    577\u001b[0m \u001b[0;34m\u001b[0m\u001b[0m\n\u001b[1;32m    578\u001b[0m         \u001b[0;31m# Total elapsed time of the request (approximately)\u001b[0m\u001b[0;34m\u001b[0m\u001b[0;34m\u001b[0m\u001b[0m\n",
      "\u001b[0;32m/usr/local/lib/python3.4/site-packages/requests/adapters.py\u001b[0m in \u001b[0;36msend\u001b[0;34m(self, request, stream, timeout, verify, cert, proxies)\u001b[0m\n\u001b[1;32m    368\u001b[0m                     \u001b[0mdecode_content\u001b[0m\u001b[0;34m=\u001b[0m\u001b[0;32mFalse\u001b[0m\u001b[0;34m,\u001b[0m\u001b[0;34m\u001b[0m\u001b[0m\n\u001b[1;32m    369\u001b[0m                     \u001b[0mretries\u001b[0m\u001b[0;34m=\u001b[0m\u001b[0mself\u001b[0m\u001b[0;34m.\u001b[0m\u001b[0mmax_retries\u001b[0m\u001b[0;34m,\u001b[0m\u001b[0;34m\u001b[0m\u001b[0m\n\u001b[0;32m--> 370\u001b[0;31m                     \u001b[0mtimeout\u001b[0m\u001b[0;34m=\u001b[0m\u001b[0mtimeout\u001b[0m\u001b[0;34m\u001b[0m\u001b[0m\n\u001b[0m\u001b[1;32m    371\u001b[0m                 )\n\u001b[1;32m    372\u001b[0m \u001b[0;34m\u001b[0m\u001b[0m\n",
      "\u001b[0;32m/usr/local/lib/python3.4/site-packages/requests/packages/urllib3/connectionpool.py\u001b[0m in \u001b[0;36murlopen\u001b[0;34m(self, method, url, body, headers, retries, redirect, assert_same_host, timeout, pool_timeout, release_conn, **response_kw)\u001b[0m\n\u001b[1;32m    557\u001b[0m             httplib_response = self._make_request(conn, method, url,\n\u001b[1;32m    558\u001b[0m                                                   \u001b[0mtimeout\u001b[0m\u001b[0;34m=\u001b[0m\u001b[0mtimeout_obj\u001b[0m\u001b[0;34m,\u001b[0m\u001b[0;34m\u001b[0m\u001b[0m\n\u001b[0;32m--> 559\u001b[0;31m                                                   body=body, headers=headers)\n\u001b[0m\u001b[1;32m    560\u001b[0m \u001b[0;34m\u001b[0m\u001b[0m\n\u001b[1;32m    561\u001b[0m             \u001b[0;31m# If we're going to release the connection in ``finally:``, then\u001b[0m\u001b[0;34m\u001b[0m\u001b[0;34m\u001b[0m\u001b[0m\n",
      "\u001b[0;32m/usr/local/lib/python3.4/site-packages/requests/packages/urllib3/connectionpool.py\u001b[0m in \u001b[0;36m_make_request\u001b[0;34m(self, conn, method, url, timeout, **httplib_request_kw)\u001b[0m\n\u001b[1;32m    376\u001b[0m                 \u001b[0mhttplib_response\u001b[0m \u001b[0;34m=\u001b[0m \u001b[0mconn\u001b[0m\u001b[0;34m.\u001b[0m\u001b[0mgetresponse\u001b[0m\u001b[0;34m(\u001b[0m\u001b[0mbuffering\u001b[0m\u001b[0;34m=\u001b[0m\u001b[0;32mTrue\u001b[0m\u001b[0;34m)\u001b[0m\u001b[0;34m\u001b[0m\u001b[0m\n\u001b[1;32m    377\u001b[0m             \u001b[0;32mexcept\u001b[0m \u001b[0mTypeError\u001b[0m\u001b[0;34m:\u001b[0m  \u001b[0;31m# Python 2.6 and older\u001b[0m\u001b[0;34m\u001b[0m\u001b[0m\n\u001b[0;32m--> 378\u001b[0;31m                 \u001b[0mhttplib_response\u001b[0m \u001b[0;34m=\u001b[0m \u001b[0mconn\u001b[0m\u001b[0;34m.\u001b[0m\u001b[0mgetresponse\u001b[0m\u001b[0;34m(\u001b[0m\u001b[0;34m)\u001b[0m\u001b[0;34m\u001b[0m\u001b[0m\n\u001b[0m\u001b[1;32m    379\u001b[0m         \u001b[0;32mexcept\u001b[0m \u001b[0;34m(\u001b[0m\u001b[0mSocketTimeout\u001b[0m\u001b[0;34m,\u001b[0m \u001b[0mBaseSSLError\u001b[0m\u001b[0;34m,\u001b[0m \u001b[0mSocketError\u001b[0m\u001b[0;34m)\u001b[0m \u001b[0;32mas\u001b[0m \u001b[0me\u001b[0m\u001b[0;34m:\u001b[0m\u001b[0;34m\u001b[0m\u001b[0m\n\u001b[1;32m    380\u001b[0m             \u001b[0mself\u001b[0m\u001b[0;34m.\u001b[0m\u001b[0m_raise_timeout\u001b[0m\u001b[0;34m(\u001b[0m\u001b[0merr\u001b[0m\u001b[0;34m=\u001b[0m\u001b[0me\u001b[0m\u001b[0;34m,\u001b[0m \u001b[0murl\u001b[0m\u001b[0;34m=\u001b[0m\u001b[0murl\u001b[0m\u001b[0;34m,\u001b[0m \u001b[0mtimeout_value\u001b[0m\u001b[0;34m=\u001b[0m\u001b[0mread_timeout\u001b[0m\u001b[0;34m)\u001b[0m\u001b[0;34m\u001b[0m\u001b[0m\n",
      "\u001b[0;32m/usr/local/Cellar/python3/3.4.3_2/Frameworks/Python.framework/Versions/3.4/lib/python3.4/http/client.py\u001b[0m in \u001b[0;36mgetresponse\u001b[0;34m(self)\u001b[0m\n\u001b[1;32m   1169\u001b[0m \u001b[0;34m\u001b[0m\u001b[0m\n\u001b[1;32m   1170\u001b[0m         \u001b[0;32mtry\u001b[0m\u001b[0;34m:\u001b[0m\u001b[0;34m\u001b[0m\u001b[0m\n\u001b[0;32m-> 1171\u001b[0;31m             \u001b[0mresponse\u001b[0m\u001b[0;34m.\u001b[0m\u001b[0mbegin\u001b[0m\u001b[0;34m(\u001b[0m\u001b[0;34m)\u001b[0m\u001b[0;34m\u001b[0m\u001b[0m\n\u001b[0m\u001b[1;32m   1172\u001b[0m             \u001b[0;32massert\u001b[0m \u001b[0mresponse\u001b[0m\u001b[0;34m.\u001b[0m\u001b[0mwill_close\u001b[0m \u001b[0;34m!=\u001b[0m \u001b[0m_UNKNOWN\u001b[0m\u001b[0;34m\u001b[0m\u001b[0m\n\u001b[1;32m   1173\u001b[0m             \u001b[0mself\u001b[0m\u001b[0;34m.\u001b[0m\u001b[0m__state\u001b[0m \u001b[0;34m=\u001b[0m \u001b[0m_CS_IDLE\u001b[0m\u001b[0;34m\u001b[0m\u001b[0m\n",
      "\u001b[0;32m/usr/local/Cellar/python3/3.4.3_2/Frameworks/Python.framework/Versions/3.4/lib/python3.4/http/client.py\u001b[0m in \u001b[0;36mbegin\u001b[0;34m(self)\u001b[0m\n\u001b[1;32m    349\u001b[0m         \u001b[0;31m# read until we get a non-100 response\u001b[0m\u001b[0;34m\u001b[0m\u001b[0;34m\u001b[0m\u001b[0m\n\u001b[1;32m    350\u001b[0m         \u001b[0;32mwhile\u001b[0m \u001b[0;32mTrue\u001b[0m\u001b[0;34m:\u001b[0m\u001b[0;34m\u001b[0m\u001b[0m\n\u001b[0;32m--> 351\u001b[0;31m             \u001b[0mversion\u001b[0m\u001b[0;34m,\u001b[0m \u001b[0mstatus\u001b[0m\u001b[0;34m,\u001b[0m \u001b[0mreason\u001b[0m \u001b[0;34m=\u001b[0m \u001b[0mself\u001b[0m\u001b[0;34m.\u001b[0m\u001b[0m_read_status\u001b[0m\u001b[0;34m(\u001b[0m\u001b[0;34m)\u001b[0m\u001b[0;34m\u001b[0m\u001b[0m\n\u001b[0m\u001b[1;32m    352\u001b[0m             \u001b[0;32mif\u001b[0m \u001b[0mstatus\u001b[0m \u001b[0;34m!=\u001b[0m \u001b[0mCONTINUE\u001b[0m\u001b[0;34m:\u001b[0m\u001b[0;34m\u001b[0m\u001b[0m\n\u001b[1;32m    353\u001b[0m                 \u001b[0;32mbreak\u001b[0m\u001b[0;34m\u001b[0m\u001b[0m\n",
      "\u001b[0;32m/usr/local/Cellar/python3/3.4.3_2/Frameworks/Python.framework/Versions/3.4/lib/python3.4/http/client.py\u001b[0m in \u001b[0;36m_read_status\u001b[0;34m(self)\u001b[0m\n\u001b[1;32m    311\u001b[0m \u001b[0;34m\u001b[0m\u001b[0m\n\u001b[1;32m    312\u001b[0m     \u001b[0;32mdef\u001b[0m \u001b[0m_read_status\u001b[0m\u001b[0;34m(\u001b[0m\u001b[0mself\u001b[0m\u001b[0;34m)\u001b[0m\u001b[0;34m:\u001b[0m\u001b[0;34m\u001b[0m\u001b[0m\n\u001b[0;32m--> 313\u001b[0;31m         \u001b[0mline\u001b[0m \u001b[0;34m=\u001b[0m \u001b[0mstr\u001b[0m\u001b[0;34m(\u001b[0m\u001b[0mself\u001b[0m\u001b[0;34m.\u001b[0m\u001b[0mfp\u001b[0m\u001b[0;34m.\u001b[0m\u001b[0mreadline\u001b[0m\u001b[0;34m(\u001b[0m\u001b[0m_MAXLINE\u001b[0m \u001b[0;34m+\u001b[0m \u001b[0;36m1\u001b[0m\u001b[0;34m)\u001b[0m\u001b[0;34m,\u001b[0m \u001b[0;34m\"iso-8859-1\"\u001b[0m\u001b[0;34m)\u001b[0m\u001b[0;34m\u001b[0m\u001b[0m\n\u001b[0m\u001b[1;32m    314\u001b[0m         \u001b[0;32mif\u001b[0m \u001b[0mlen\u001b[0m\u001b[0;34m(\u001b[0m\u001b[0mline\u001b[0m\u001b[0;34m)\u001b[0m \u001b[0;34m>\u001b[0m \u001b[0m_MAXLINE\u001b[0m\u001b[0;34m:\u001b[0m\u001b[0;34m\u001b[0m\u001b[0m\n\u001b[1;32m    315\u001b[0m             \u001b[0;32mraise\u001b[0m \u001b[0mLineTooLong\u001b[0m\u001b[0;34m(\u001b[0m\u001b[0;34m\"status line\"\u001b[0m\u001b[0;34m)\u001b[0m\u001b[0;34m\u001b[0m\u001b[0m\n",
      "\u001b[0;32m/usr/local/Cellar/python3/3.4.3_2/Frameworks/Python.framework/Versions/3.4/lib/python3.4/socket.py\u001b[0m in \u001b[0;36mreadinto\u001b[0;34m(self, b)\u001b[0m\n\u001b[1;32m    372\u001b[0m         \u001b[0;32mwhile\u001b[0m \u001b[0;32mTrue\u001b[0m\u001b[0;34m:\u001b[0m\u001b[0;34m\u001b[0m\u001b[0m\n\u001b[1;32m    373\u001b[0m             \u001b[0;32mtry\u001b[0m\u001b[0;34m:\u001b[0m\u001b[0;34m\u001b[0m\u001b[0m\n\u001b[0;32m--> 374\u001b[0;31m                 \u001b[0;32mreturn\u001b[0m \u001b[0mself\u001b[0m\u001b[0;34m.\u001b[0m\u001b[0m_sock\u001b[0m\u001b[0;34m.\u001b[0m\u001b[0mrecv_into\u001b[0m\u001b[0;34m(\u001b[0m\u001b[0mb\u001b[0m\u001b[0;34m)\u001b[0m\u001b[0;34m\u001b[0m\u001b[0m\n\u001b[0m\u001b[1;32m    375\u001b[0m             \u001b[0;32mexcept\u001b[0m \u001b[0mtimeout\u001b[0m\u001b[0;34m:\u001b[0m\u001b[0;34m\u001b[0m\u001b[0m\n\u001b[1;32m    376\u001b[0m                 \u001b[0mself\u001b[0m\u001b[0;34m.\u001b[0m\u001b[0m_timeout_occurred\u001b[0m \u001b[0;34m=\u001b[0m \u001b[0;32mTrue\u001b[0m\u001b[0;34m\u001b[0m\u001b[0m\n",
      "\u001b[0;31mKeyboardInterrupt\u001b[0m: "
     ]
    }
   ],
   "source": [
    "# now use dates to fetch history flags data and store into mongodb\n",
    "for date in dates:\n",
    "    f = open('iwencai_flags.json', 'r')\n",
    "    try:\n",
    "        flags = json.loads(f.read())\n",
    "    except:\n",
    "        flags = []\n",
    "    i = 0\n",
    "    for flag in flags:\n",
    "        # search each flag at iwencai\n",
    "        result = ths.query_iwencai(date.strftime('%Y年%m月%d日')+flag)\n",
    "        result = result['result']\n",
    "        # insert into db\n",
    "        i += 1\n",
    "        print(i)\n",
    "        try:\n",
    "            db_ot.iwencai_flag_history.insert_one({'flag':flag, 'date':d2dt(date),'symbols':[each[0] for each in result]})\n",
    "        except DuplicateKeyError as e:\n",
    "            print(e)"
   ]
  },
  {
   "cell_type": "code",
   "execution_count": null,
   "metadata": {
    "collapsed": true
   },
   "outputs": [],
   "source": []
  },
  {
   "cell_type": "code",
   "execution_count": null,
   "metadata": {
    "collapsed": true
   },
   "outputs": [],
   "source": []
  }
 ],
 "metadata": {
  "kernelspec": {
   "display_name": "Python 3",
   "language": "python",
   "name": "python3"
  },
  "language_info": {
   "codemirror_mode": {
    "name": "ipython",
    "version": 3
   },
   "file_extension": ".py",
   "mimetype": "text/x-python",
   "name": "python",
   "nbconvert_exporter": "python",
   "pygments_lexer": "ipython3",
   "version": "3.4.3"
  }
 },
 "nbformat": 4,
 "nbformat_minor": 0
}
